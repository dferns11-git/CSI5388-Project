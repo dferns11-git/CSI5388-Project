{
 "cells": [
  {
   "cell_type": "code",
   "execution_count": 24,
   "metadata": {},
   "outputs": [],
   "source": [
    "\"\"\"\n",
    "This is our 2-stage testing script (binary and multiclass)\n",
    "\n",
    "Author: Wesley\n",
    "\"\"\"\n",
    "import numpy as np\n",
    "import pandas as pd\n",
    "import pickle\n",
    "import keras\n",
    "from sklearn.preprocessing import StandardScaler, LabelEncoder\n",
    "\n",
    "from sklearn.metrics import classification_report\n",
    "\n",
    "from sklearn.neighbors import KNeighborsClassifier"
   ]
  },
  {
   "cell_type": "markdown",
   "metadata": {},
   "source": [
    "Load dataset and get binary and multiclass y columns."
   ]
  },
  {
   "cell_type": "code",
   "execution_count": 5,
   "metadata": {},
   "outputs": [
    {
     "name": "stdout",
     "output_type": "stream",
     "text": [
      "BENIGN     79997\n",
      "TFTP        6667\n",
      "Syn         6667\n",
      "UDP         6667\n",
      "DNS         6667\n",
      "UDP-lag     6666\n",
      "LDAP        6666\n",
      "Portmap     6666\n",
      "SSDP        6666\n",
      "NTP         6666\n",
      "NetBIOS     6666\n",
      "MSSQL       6666\n",
      "SNMP        6666\n",
      "Name:  Label, dtype: int64\n",
      "BENIGN     19999\n",
      "SSDP        1667\n",
      "NetBIOS     1667\n",
      "NTP         1667\n",
      "LDAP        1667\n",
      "UDP-lag     1667\n",
      "SNMP        1667\n",
      "MSSQL       1667\n",
      "Portmap     1667\n",
      "UDP         1666\n",
      "TFTP        1666\n",
      "Syn         1666\n",
      "DNS         1666\n",
      "Name:  Label, dtype: int64\n",
      "LDAP       13333\n",
      "DNS        13333\n",
      "Portmap    13333\n",
      "UDP        13333\n",
      "MSSQL      13333\n",
      "UDP-lag    13333\n",
      "Syn        13333\n",
      "NetBIOS    13333\n",
      "TFTP       13333\n",
      "SSDP       13332\n",
      "NTP        13332\n",
      "SNMP       13332\n",
      "Name:  Label, dtype: int64\n",
      "SNMP       3334\n",
      "SSDP       3334\n",
      "NTP        3334\n",
      "Portmap    3333\n",
      "NetBIOS    3333\n",
      "UDP-lag    3333\n",
      "MSSQL      3333\n",
      "LDAP       3333\n",
      "DNS        3333\n",
      "UDP        3333\n",
      "TFTP       3333\n",
      "Syn        3333\n",
      "Name:  Label, dtype: int64\n"
     ]
    }
   ],
   "source": [
    "binary_train = pd.read_csv(\"binary_train.csv\")\n",
    "binary_test = pd.read_csv(\"binary_test.csv\")\n",
    "\n",
    "multiclass_train = pd.read_csv(\"multiclass_train.csv\")\n",
    "multiclass_test = pd.read_csv(\"multiclass_test.csv\")\n",
    "\n",
    "print(binary_train[\" Label\"].value_counts())\n",
    "print(binary_test[\" Label\"].value_counts())\n",
    "print(multiclass_train[\" Label\"].value_counts())\n",
    "print(multiclass_test[\" Label\"].value_counts())"
   ]
  },
  {
   "attachments": {},
   "cell_type": "markdown",
   "metadata": {},
   "source": [
    "Split and encode data."
   ]
  },
  {
   "cell_type": "code",
   "execution_count": 8,
   "metadata": {},
   "outputs": [
    {
     "name": "stdout",
     "output_type": "stream",
     "text": [
      "The text labels from the encoding will be passed to classification report so we can interpret our results more easily.\n",
      "\n",
      "Binary Label Encodings (in order of digits 0 -> 1): \n",
      "['BENIGN', 'ATTACK']\n",
      "\n",
      "Multiclass Label Encodings (in order of digits 0 -> n): \n",
      "['DNS', 'LDAP', 'MSSQL', 'NTP', 'NetBIOS', 'Portmap', 'SNMP', 'SSDP', 'Syn', 'TFTP', 'UDP', 'UDP-lag']\n"
     ]
    }
   ],
   "source": [
    "bin_y_train = binary_train[\" Label\"].copy()\n",
    "bin_x_train = binary_train.drop([\" Label\"], axis=1)\n",
    "\n",
    "bin_y_test = binary_test[\" Label\"].copy()\n",
    "bin_x_test = binary_test.drop([\" Label\"], axis=1)\n",
    "\n",
    "bin_y_train = [0 if x==\"BENIGN\" else 1 for x in bin_y_train.values]\n",
    "bin_y_test = [0 if x==\"BENIGN\" else 1 for x in bin_y_test.values]\n",
    "\n",
    "print(\"The text labels from the encoding will be passed to classification report so we can interpret our results more easily.\\n\")\n",
    "binary_labels = [\"BENIGN\", \"ATTACK\"]\n",
    "\n",
    "print(\"Binary Label Encodings (in order of digits 0 -> 1): \")\n",
    "print(binary_labels)\n",
    "\n",
    "multi_y_train = multiclass_train[\" Label\"].copy()\n",
    "multi_x_train = multiclass_train.drop([\" Label\"], axis=1)\n",
    "\n",
    "multi_y_test = multiclass_test[\" Label\"].copy()\n",
    "multi_x_test = multiclass_test.drop([\" Label\"], axis=1)\n",
    "\n",
    "# Encode attack labels to int and save as array to be used later.\n",
    "le = LabelEncoder()\n",
    "\n",
    "multi_y_train = le.fit_transform(multi_y_train.values)\n",
    "multi_y_test = le.transform(multi_y_test.values)\n",
    "\n",
    "multiclass_labels = []\n",
    "print(\"\\nMulticlass Label Encodings (in order of digits 0 -> n): \")\n",
    "for i in range(0, len(list(set(list(multi_y_test))))):\n",
    "    multiclass_labels.append(le.inverse_transform([i])[0])\n",
    "\n",
    "print(multiclass_labels)"
   ]
  },
  {
   "cell_type": "markdown",
   "metadata": {},
   "source": [
    "Load models"
   ]
  },
  {
   "cell_type": "code",
   "execution_count": 25,
   "metadata": {},
   "outputs": [],
   "source": [
    "# Load a binary model\n",
    "#stage_1 = pickle.load(open(\"rf_binary_test.pickle\", 'rb'))\n",
    "stage_1 = keras.models.load_model('CNN_binary_final.h5')\n",
    "# Load a multiclass model\n",
    "stage_2 = KNeighborsClassifier(algorithm = 'kd_tree', n_neighbors=47, weights = 'distance')"
   ]
  },
  {
   "cell_type": "markdown",
   "metadata": {},
   "source": [
    "Stage 1 Prediction (Binary)"
   ]
  },
  {
   "cell_type": "code",
   "execution_count": 19,
   "metadata": {},
   "outputs": [
    {
     "name": "stdout",
     "output_type": "stream",
     "text": [
      "1250/1250 [==============================] - 2s 2ms/step\n"
     ]
    }
   ],
   "source": [
    "scal = StandardScaler()\n",
    "scal = scal.fit(bin_x_train)\n",
    "bin_x_test_reshaped = scal.transform(bin_x_test)\n",
    "y_pred = stage_1.predict(bin_x_test_reshaped)\n",
    "y_pred = [1 if x>=0.5 else 0 for x in y_pred]"
   ]
  },
  {
   "cell_type": "code",
   "execution_count": 20,
   "metadata": {},
   "outputs": [
    {
     "name": "stdout",
     "output_type": "stream",
     "text": [
      "              precision    recall  f1-score   support\n",
      "\n",
      "      BENIGN   0.999650  0.999900  0.999775     19999\n",
      "      ATTACK   0.999900  0.999650  0.999775     20000\n",
      "\n",
      "    accuracy                       0.999775     39999\n",
      "   macro avg   0.999775  0.999775  0.999775     39999\n",
      "weighted avg   0.999775  0.999775  0.999775     39999\n",
      "\n"
     ]
    }
   ],
   "source": [
    "print(classification_report(bin_y_test, y_pred, digits=6, target_names=binary_labels))"
   ]
  },
  {
   "cell_type": "markdown",
   "metadata": {},
   "source": [
    "Housekeeping to prepare the dataset for 2nd stage."
   ]
  },
  {
   "cell_type": "code",
   "execution_count": 58,
   "metadata": {},
   "outputs": [
    {
     "name": "stderr",
     "output_type": "stream",
     "text": [
      "C:\\Users\\icarus\\AppData\\Local\\Temp\\ipykernel_33908\\2310080828.py:11: SettingWithCopyWarning: \n",
      "A value is trying to be set on a copy of a slice from a DataFrame.\n",
      "Try using .loc[row_indexer,col_indexer] = value instead\n",
      "\n",
      "See the caveats in the documentation: https://pandas.pydata.org/pandas-docs/stable/user_guide/indexing.html#returning-a-view-versus-a-copy\n",
      "  X_rem['binary_pred'] = X_rem['binary_pred'].replace([0], -1)\n"
     ]
    }
   ],
   "source": [
    "# Create new dataframe out of binary predictions and multiclass labels that can be used to compare them later.\n",
    "X_agg = bin_x_test.copy()\n",
    "X_agg[\"binary_pred\"] = y_pred.copy()\n",
    "X_agg[\" Label\"] = binary_test[\" Label\"].copy()\n",
    "#X_agg[\" Label\"] = le.transform(X_agg[\" Label\"].values)\n",
    "X_agg.loc[~X_agg[\" Label\"].isin(le.classes_),\" Label\"] = -1 \n",
    "X_agg.loc[X_agg[\" Label\"].isin(le.classes_),\" Label\"] = le.transform(X_agg[\" Label\"][X_agg[\" Label\"].isin(le.classes_)])\n",
    "\n",
    "# Slice out the portions that we've identified as benign and replace their label with that of the multiclass benign label for comparison later.\n",
    "X_rem = X_agg[X_agg[\"binary_pred\"] == 0]\n",
    "X_rem['binary_pred'] = X_rem['binary_pred'].replace([0], -1)\n",
    "\n",
    "# Slice out the portions we've labeled as attack for 2nd stage classification.\n",
    "X_mult = X_agg[X_agg[\"binary_pred\"] == 1]\n",
    "X_mult = X_mult.drop([\"binary_pred\"], axis = 1)\n",
    "y_mult = X_mult[\" Label\"].values.copy()\n",
    "\n",
    "X_mult = X_mult.drop([\" Label\"], axis = 1)"
   ]
  },
  {
   "cell_type": "markdown",
   "metadata": {},
   "source": [
    "2nd stage prediction"
   ]
  },
  {
   "cell_type": "code",
   "execution_count": 59,
   "metadata": {},
   "outputs": [],
   "source": [
    "# Some reshaping is needed for the LSTM model to work\n",
    "stage_2.fit(multi_x_train, multi_y_train)\n",
    "\n",
    "y_pred2 = stage_2.predict(X_mult)\n",
    "#y_pred2 = [np.argmax(x) for x in y_pred2]"
   ]
  },
  {
   "cell_type": "code",
   "execution_count": 60,
   "metadata": {},
   "outputs": [
    {
     "name": "stdout",
     "output_type": "stream",
     "text": [
      "(array([ 0,  1,  2,  3,  4,  5,  6,  7,  8,  9, 10, 11]), array([1757, 1266, 1658, 1679, 1060, 2329, 1955, 1606, 1028, 1662, 1781,\n",
      "       2214], dtype=int64))\n",
      "(array([-1,  0,  1,  2,  3,  4,  5,  6,  7,  8,  9, 10, 11]), array([   2, 1665, 1667, 1667, 1664, 1667, 1666, 1667, 1666, 1666, 1665,\n",
      "       1666, 1667], dtype=int64))\n"
     ]
    }
   ],
   "source": [
    "print(np.unique(y_pred2, return_counts=True))\n",
    "print(np.unique(list(y_mult), return_counts=True))"
   ]
  },
  {
   "cell_type": "code",
   "execution_count": 61,
   "metadata": {},
   "outputs": [
    {
     "name": "stdout",
     "output_type": "stream",
     "text": [
      "['DNS', 'LDAP', 'MSSQL', 'NTP', 'NetBIOS', 'Portmap', 'SNMP', 'SSDP', 'Syn', 'TFTP', 'UDP', 'UDP-lag']\n",
      "['BENIGN', 'DNS', 'LDAP', 'MSSQL', 'NTP', 'NetBIOS', 'Portmap', 'SNMP', 'SSDP', 'Syn', 'TFTP', 'UDP', 'UDP-lag']\n"
     ]
    }
   ],
   "source": [
    "print(multiclass_labels)\n",
    "multiclass_labels_add = [\"BENIGN\"]\n",
    "multiclass_labels_add.extend(multiclass_labels)\n",
    "print(multiclass_labels_add)"
   ]
  },
  {
   "cell_type": "code",
   "execution_count": 65,
   "metadata": {},
   "outputs": [
    {
     "name": "stdout",
     "output_type": "stream",
     "text": [
      "              precision    recall  f1-score   support\n",
      "\n",
      "      BENIGN   0.000000  0.000000  0.000000         2\n",
      "         DNS   0.648264  0.684084  0.665693      1665\n",
      "        LDAP   0.671406  0.509898  0.579611      1667\n",
      "       MSSQL   0.954162  0.949010  0.951579      1667\n",
      "         NTP   0.977963  0.986779  0.982351      1664\n",
      "     NetBIOS   0.749057  0.476305  0.582325      1667\n",
      "     Portmap   0.619579  0.866146  0.722403      1666\n",
      "        SNMP   0.722762  0.847630  0.780232      1667\n",
      "        SSDP   0.724159  0.698079  0.710880      1666\n",
      "         Syn   0.956226  0.590036  0.729770      1666\n",
      "        TFTP   0.994585  0.992793  0.993688      1665\n",
      "         UDP   0.710275  0.759304  0.733972      1666\n",
      "     UDP-lag   0.674797  0.896221  0.769905      1667\n",
      "\n",
      "    accuracy                       0.771243     19995\n",
      "   macro avg   0.723326  0.712022  0.707878     19995\n",
      "weighted avg   0.783494  0.771243  0.766754     19995\n",
      "\n"
     ]
    },
    {
     "name": "stderr",
     "output_type": "stream",
     "text": [
      "c:\\Users\\icarus\\AppData\\Local\\Programs\\Python\\Python310\\lib\\site-packages\\sklearn\\metrics\\_classification.py:1327: UndefinedMetricWarning: Precision and F-score are ill-defined and being set to 0.0 in labels with no predicted samples. Use `zero_division` parameter to control this behavior.\n",
      "  _warn_prf(average, modifier, msg_start, len(result))\n",
      "c:\\Users\\icarus\\AppData\\Local\\Programs\\Python\\Python310\\lib\\site-packages\\sklearn\\metrics\\_classification.py:1327: UndefinedMetricWarning: Precision and F-score are ill-defined and being set to 0.0 in labels with no predicted samples. Use `zero_division` parameter to control this behavior.\n",
      "  _warn_prf(average, modifier, msg_start, len(result))\n",
      "c:\\Users\\icarus\\AppData\\Local\\Programs\\Python\\Python310\\lib\\site-packages\\sklearn\\metrics\\_classification.py:1327: UndefinedMetricWarning: Precision and F-score are ill-defined and being set to 0.0 in labels with no predicted samples. Use `zero_division` parameter to control this behavior.\n",
      "  _warn_prf(average, modifier, msg_start, len(result))\n"
     ]
    }
   ],
   "source": [
    "print(classification_report(list(y_mult), y_pred2, digits=6, target_names=multiclass_labels_add))"
   ]
  },
  {
   "cell_type": "markdown",
   "metadata": {},
   "source": [
    "Final Calculation of Results"
   ]
  },
  {
   "cell_type": "code",
   "execution_count": 67,
   "metadata": {},
   "outputs": [
    {
     "name": "stdout",
     "output_type": "stream",
     "text": [
      "              precision    recall  f1-score   support\n",
      "\n",
      "      BENIGN   0.999650  0.999900  0.999775     19999\n",
      "         DNS   0.648264  0.683673  0.665498      1666\n",
      "        LDAP   0.671406  0.509898  0.579611      1667\n",
      "       MSSQL   0.954162  0.949010  0.951579      1667\n",
      "         NTP   0.977963  0.985003  0.981470      1667\n",
      "     NetBIOS   0.749057  0.476305  0.582325      1667\n",
      "     Portmap   0.619579  0.865627  0.722222      1667\n",
      "        SNMP   0.722762  0.847630  0.780232      1667\n",
      "        SSDP   0.724159  0.697660  0.710663      1667\n",
      "         Syn   0.956226  0.590036  0.729770      1666\n",
      "        TFTP   0.994585  0.992197  0.993389      1666\n",
      "         UDP   0.710275  0.759304  0.733972      1666\n",
      "     UDP-lag   0.674797  0.896221  0.769905      1667\n",
      "\n",
      "    accuracy                       0.885472     39999\n",
      "   macro avg   0.800222  0.788651  0.784647     39999\n",
      "weighted avg   0.891619  0.885472  0.883243     39999\n",
      "\n"
     ]
    }
   ],
   "source": [
    "y_pred_final = list(X_rem[\"binary_pred\"].values.copy())\n",
    "y_pred_final.extend(y_pred2)\n",
    "\n",
    "y_true_final = list(X_rem[\" Label\"].values.copy())\n",
    "y_true_final.extend(list(y_mult))\n",
    "\n",
    "print(classification_report(y_true_final, y_pred_final, digits=6, target_names=multiclass_labels_add))"
   ]
  }
 ],
 "metadata": {
  "kernelspec": {
   "display_name": "Python 3.10.4 64-bit",
   "language": "python",
   "name": "python3"
  },
  "language_info": {
   "codemirror_mode": {
    "name": "ipython",
    "version": 3
   },
   "file_extension": ".py",
   "mimetype": "text/x-python",
   "name": "python",
   "nbconvert_exporter": "python",
   "pygments_lexer": "ipython3",
   "version": "3.10.4"
  },
  "orig_nbformat": 4,
  "vscode": {
   "interpreter": {
    "hash": "4593b52a31704b5155580280f0f05a500adb36bf97584c7e94e26dfe17ea16d9"
   }
  }
 },
 "nbformat": 4,
 "nbformat_minor": 2
}
