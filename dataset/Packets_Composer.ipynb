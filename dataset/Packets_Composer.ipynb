{
 "cells": [
  {
   "cell_type": "code",
   "execution_count": 105,
   "id": "a5e1b5d5",
   "metadata": {},
   "outputs": [
    {
     "name": "stderr",
     "output_type": "stream",
     "text": [
      "C:\\Users\\Darren\\AppData\\Local\\Temp\\ipykernel_1312\\2862007094.py:2: DtypeWarning: Columns (84) have mixed types. Specify dtype option on import or set low_memory=False.\n",
      "  binary_df = pd.read_csv(\"binary.csv\")\n"
     ]
    }
   ],
   "source": [
    "import pandas as pd\n",
    "binary_df = pd.read_csv(\"binary.csv\")\n",
    "columns = binary_df.columns.values"
   ]
  },
  {
   "cell_type": "code",
   "execution_count": 106,
   "id": "1ba431d1",
   "metadata": {},
   "outputs": [],
   "source": [
    "temp_list = []\n",
    "\n",
    "batch = 0\n",
    "with pd.read_csv(\"TFTP.csv\", chunksize=100) as chunk:\n",
    "    for packet in chunk:\n",
    "        temp_list.append(packet)\n",
    "        \n",
    "        batch += len(packet)\n",
    "        \n",
    "        if batch == 100000:\n",
    "            break"
   ]
  },
  {
   "cell_type": "code",
   "execution_count": 107,
   "id": "731517b5",
   "metadata": {},
   "outputs": [],
   "source": [
    "final_df = []\n",
    "for x in temp_list:\n",
    "    if len(final_df) == 0:\n",
    "        final_df = x\n",
    "    else:\n",
    "        final_df = pd.concat([final_df, x])"
   ]
  },
  {
   "cell_type": "code",
   "execution_count": 108,
   "id": "e2d47aef",
   "metadata": {},
   "outputs": [],
   "source": [
    "attack_df = final_df[final_df[\" Label\"] == \"BENIGN\"]\n",
    "attack_df = attack_df[columns]"
   ]
  },
  {
   "cell_type": "code",
   "execution_count": 109,
   "id": "7f18dfa1",
   "metadata": {},
   "outputs": [
    {
     "data": {
      "text/plain": [
       "6"
      ]
     },
     "execution_count": 109,
     "metadata": {},
     "output_type": "execute_result"
    }
   ],
   "source": [
    "len(attack_df.sample(frac=0.5))"
   ]
  },
  {
   "cell_type": "code",
   "execution_count": 110,
   "id": "1563bb22",
   "metadata": {},
   "outputs": [],
   "source": [
    "attack_df.to_csv(\"TFTP_benign.csv\", index=False)"
   ]
  }
 ],
 "metadata": {
  "kernelspec": {
   "display_name": "Python 3 (ipykernel)",
   "language": "python",
   "name": "python3"
  },
  "language_info": {
   "codemirror_mode": {
    "name": "ipython",
    "version": 3
   },
   "file_extension": ".py",
   "mimetype": "text/x-python",
   "name": "python",
   "nbconvert_exporter": "python",
   "pygments_lexer": "ipython3",
   "version": "3.10.5"
  }
 },
 "nbformat": 4,
 "nbformat_minor": 5
}
