{
 "cells": [
  {
   "cell_type": "code",
   "execution_count": 1,
   "metadata": {},
   "outputs": [],
   "source": [
    "import pandas as pd\n",
    "import numpy as np"
   ]
  },
  {
   "cell_type": "code",
   "execution_count": 16,
   "metadata": {},
   "outputs": [
    {
     "name": "stderr",
     "output_type": "stream",
     "text": [
      "C:\\Users\\icarus\\AppData\\Local\\Temp\\ipykernel_33276\\1521114905.py:1: DtypeWarning: Columns (86) have mixed types. Specify dtype option on import or set low_memory=False.\n",
      "  df1 = pd.read_csv(\"day1.csv\")\n",
      "C:\\Users\\icarus\\AppData\\Local\\Temp\\ipykernel_33276\\1521114905.py:2: DtypeWarning: Columns (86) have mixed types. Specify dtype option on import or set low_memory=False.\n",
      "  df2 = pd.read_csv(\"day2.csv\")\n"
     ]
    }
   ],
   "source": [
    "# Load both days\n",
    "df1 = pd.read_csv(\"day1.csv\")\n",
    "df2 = pd.read_csv(\"day2.csv\")"
   ]
  },
  {
   "cell_type": "code",
   "execution_count": 17,
   "metadata": {},
   "outputs": [
    {
     "name": "stdout",
     "output_type": "stream",
     "text": [
      "DrDoS_UDP        56866\n",
      "DrDoS_DNS        56865\n",
      "DrDoS_MSSQL      56865\n",
      "Syn              56864\n",
      "BENIGN           56863\n",
      "DrDoS_SNMP       56863\n",
      "TFTP             56863\n",
      "UDP-lag          56863\n",
      "DrDoS_LDAP       56862\n",
      "DrDoS_SSDP       56862\n",
      "DrDoS_NetBIOS    56861\n",
      "DrDoS_NTP        56861\n",
      "WebDDoS            439\n",
      "Name:  Label, dtype: int64\n",
      "Syn        113931\n",
      "NetBIOS    113929\n",
      "UDP        113928\n",
      "MSSQL       81357\n",
      "LDAP        66896\n",
      "BENIGN      56965\n",
      "Portmap     56965\n",
      "UDPLag       1873\n",
      "Name:  Label, dtype: int64\n"
     ]
    }
   ],
   "source": [
    "# Get counts\n",
    "print(df1[\" Label\"].value_counts())\n",
    "print(df2[\" Label\"].value_counts())"
   ]
  },
  {
   "cell_type": "code",
   "execution_count": 24,
   "metadata": {},
   "outputs": [],
   "source": [
    "# Get benign samples from Day 2 and cull them to the lowest number of attack samples found in Day 1 (excluding webddos)\n",
    "day2ben = df2[df2[\" Label\"] == \"BENIGN\"].copy()\n",
    "day2ben = day2ben.sample(n=56861,random_state=42)"
   ]
  },
  {
   "cell_type": "code",
   "execution_count": 25,
   "metadata": {},
   "outputs": [
    {
     "name": "stdout",
     "output_type": "stream",
     "text": [
      "BENIGN    56861\n",
      "Name:  Label, dtype: int64\n"
     ]
    }
   ],
   "source": [
    "print(day2ben[\" Label\"].value_counts())"
   ]
  },
  {
   "cell_type": "code",
   "execution_count": 21,
   "metadata": {},
   "outputs": [
    {
     "name": "stdout",
     "output_type": "stream",
     "text": [
      "['BENIGN' 'DrDoS_DNS' 'DrDoS_LDAP' 'DrDoS_MSSQL' 'DrDoS_NetBIOS'\n",
      " 'DrDoS_NTP' 'DrDoS_SNMP' 'DrDoS_SSDP' 'DrDoS_UDP' 'Syn' 'TFTP' 'WebDDoS'\n",
      " 'UDP-lag']\n"
     ]
    }
   ],
   "source": [
    "# get list of labels so we can pull an equal number of samples from each.\n",
    "cols = df1[\" Label\"].unique()\n",
    "print(df1[\" Label\"].unique())"
   ]
  },
  {
   "cell_type": "code",
   "execution_count": 26,
   "metadata": {},
   "outputs": [
    {
     "name": "stdout",
     "output_type": "stream",
     "text": [
      "BENIGN           56861\n",
      "DrDoS_DNS        56861\n",
      "DrDoS_LDAP       56861\n",
      "DrDoS_MSSQL      56861\n",
      "DrDoS_NetBIOS    56861\n",
      "DrDoS_NTP        56861\n",
      "DrDoS_SNMP       56861\n",
      "DrDoS_SSDP       56861\n",
      "DrDoS_UDP        56861\n",
      "Syn              56861\n",
      "TFTP             56861\n",
      "UDP-lag          56861\n",
      "Name:  Label, dtype: int64\n"
     ]
    }
   ],
   "source": [
    "# Assemble equal number of samples. Will be restructured in multiclass and binary datasets.\n",
    "outMult = None\n",
    "\n",
    "for val in cols:\n",
    "\n",
    "    # too small, so we drop it\n",
    "    if val == 'WebDDoS':\n",
    "        continue\n",
    "\n",
    "    # replace benign with day 2.\n",
    "    elif val == \"BENIGN\":\n",
    "        slice = day2ben\n",
    "\n",
    "    # get all attacks of this type and cull to appropriate number\n",
    "    else:\n",
    "        slice = df1[df1[\" Label\"] == val].copy()\n",
    "        slice = slice.sample(n=56861,random_state=42) # Ensure equal sample number\n",
    "\n",
    "    # add to output\n",
    "    if outMult is None:\n",
    "        outMult = slice\n",
    "    else:\n",
    "        outMult = pd.concat([outMult, slice])\n",
    "\n",
    "print(outMult[\" Label\"].value_counts())"
   ]
  },
  {
   "cell_type": "code",
   "execution_count": 28,
   "metadata": {},
   "outputs": [
    {
     "name": "stdout",
     "output_type": "stream",
     "text": [
      "DNS        56861\n",
      "LDAP       56861\n",
      "MSSQL      56861\n",
      "NetBIOS    56861\n",
      "NTP        56861\n",
      "SNMP       56861\n",
      "SSDP       56861\n",
      "UDP        56861\n",
      "Syn        56861\n",
      "TFTP       56861\n",
      "UDP-lag    56861\n",
      "Name:  Label, dtype: int64\n"
     ]
    },
    {
     "name": "stderr",
     "output_type": "stream",
     "text": [
      "C:\\Users\\icarus\\AppData\\Local\\Temp\\ipykernel_33276\\2852405852.py:5: SettingWithCopyWarning: \n",
      "A value is trying to be set on a copy of a slice from a DataFrame.\n",
      "Try using .loc[row_indexer,col_indexer] = value instead\n",
      "\n",
      "See the caveats in the documentation: https://pandas.pydata.org/pandas-docs/stable/user_guide/indexing.html#returning-a-view-versus-a-copy\n",
      "  multiclass[\" Label\"] = multiclass[\" Label\"].apply(lambda x: x.replace(\"DrDoS_\", \"\"))\n"
     ]
    }
   ],
   "source": [
    "# Drop the benign samples to get our multiclass dataset.\n",
    "multiclass = outMult[outMult[\" Label\"] != \"BENIGN\"]\n",
    "\n",
    "# Remove the annoying DrDOS prefix from labels.\n",
    "multiclass[\" Label\"] = multiclass[\" Label\"].apply(lambda x: x.replace(\"DrDoS_\", \"\"))\n",
    "\n",
    "print(multiclass[\" Label\"].value_counts())"
   ]
  },
  {
   "cell_type": "code",
   "execution_count": 29,
   "metadata": {},
   "outputs": [
    {
     "name": "stdout",
     "output_type": "stream",
     "text": [
      "BENIGN     56861\n",
      "DNS        56861\n",
      "LDAP       56861\n",
      "MSSQL      56861\n",
      "NetBIOS    56861\n",
      "NTP        56861\n",
      "SNMP       56861\n",
      "SSDP       56861\n",
      "UDP        56861\n",
      "Syn        56861\n",
      "TFTP       56861\n",
      "UDP-lag    56861\n",
      "Name:  Label, dtype: int64\n"
     ]
    }
   ],
   "source": [
    "# binary uses all columns\n",
    "binary = outMult.copy()\n",
    "\n",
    "# Remove the annoying DrDOS prefix from labels.\n",
    "binary[\" Label\"] = binary[\" Label\"].apply(lambda x: x.replace(\"DrDoS_\", \"\"))\n",
    "\n",
    "print(binary[\" Label\"].value_counts())"
   ]
  },
  {
   "cell_type": "code",
   "execution_count": 31,
   "metadata": {},
   "outputs": [
    {
     "name": "stdout",
     "output_type": "stream",
     "text": [
      "BENIGN    56859\n",
      "ATTACK    56859\n",
      "Name:  Label, dtype: int64\n"
     ]
    }
   ],
   "source": [
    "# get attack labels\n",
    "cols = binary[\" Label\"].unique()\n",
    "\n",
    "# make new attack label comprised of equal subsets of attacks.\n",
    "targ = int(56861 / 11)\n",
    "\n",
    "outBin = None\n",
    "\n",
    "for val in cols:\n",
    "\n",
    "    # pull category\n",
    "    slice = binary[binary[\" Label\"] == val].copy()\n",
    "\n",
    "    # binary is equal to subset * 11 so it's equal.\n",
    "    if val == \"BENIGN\":\n",
    "        slice = slice.sample(n=targ * 11,random_state=42) # Ensure equal sample number\n",
    "\n",
    "    # get subset and covert to attack type.\n",
    "    else:\n",
    "        slice = slice.sample(n=targ,random_state=42) # Ensure equal sample number\n",
    "        slice[\" Label\"] = slice[\" Label\"].apply(lambda x: \"ATTACK\")\n",
    "\n",
    "    # add to output\n",
    "    if outBin is None:\n",
    "        outBin = slice\n",
    "    else:\n",
    "        outBin = pd.concat([outBin, slice])\n",
    "\n",
    "print(outBin[\" Label\"].value_counts())"
   ]
  },
  {
   "cell_type": "code",
   "execution_count": 32,
   "metadata": {},
   "outputs": [],
   "source": [
    "multiclass.to_csv(\"multiclass.csv\")\n",
    "outBin.to_csv(\"binary.csv\")"
   ]
  }
 ],
 "metadata": {
  "kernelspec": {
   "display_name": "Python 3.10.4 64-bit",
   "language": "python",
   "name": "python3"
  },
  "language_info": {
   "codemirror_mode": {
    "name": "ipython",
    "version": 3
   },
   "file_extension": ".py",
   "mimetype": "text/x-python",
   "name": "python",
   "nbconvert_exporter": "python",
   "pygments_lexer": "ipython3",
   "version": "3.10.4"
  },
  "orig_nbformat": 4,
  "vscode": {
   "interpreter": {
    "hash": "4593b52a31704b5155580280f0f05a500adb36bf97584c7e94e26dfe17ea16d9"
   }
  }
 },
 "nbformat": 4,
 "nbformat_minor": 2
}
