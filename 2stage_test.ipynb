{
 "cells": [
  {
   "cell_type": "code",
   "execution_count": 75,
   "metadata": {},
   "outputs": [],
   "source": [
    "import numpy as np\n",
    "import pandas as pd\n",
    "import pickle\n",
    "import keras\n",
    "from sklearn.preprocessing import StandardScaler, LabelEncoder\n",
    "\n",
    "from sklearn.metrics import classification_report"
   ]
  },
  {
   "cell_type": "markdown",
   "metadata": {},
   "source": [
    "Load dataset and get binary and multiclass y columns."
   ]
  },
  {
   "cell_type": "code",
   "execution_count": 76,
   "metadata": {},
   "outputs": [
    {
     "data": {
      "text/html": [
       "<div>\n",
       "<style scoped>\n",
       "    .dataframe tbody tr th:only-of-type {\n",
       "        vertical-align: middle;\n",
       "    }\n",
       "\n",
       "    .dataframe tbody tr th {\n",
       "        vertical-align: top;\n",
       "    }\n",
       "\n",
       "    .dataframe thead th {\n",
       "        text-align: right;\n",
       "    }\n",
       "</style>\n",
       "<table border=\"1\" class=\"dataframe\">\n",
       "  <thead>\n",
       "    <tr style=\"text-align: right;\">\n",
       "      <th></th>\n",
       "      <th>Protocol</th>\n",
       "      <th>Flow Duration</th>\n",
       "      <th>Total Fwd Packets</th>\n",
       "      <th>Total Backward Packets</th>\n",
       "      <th>Total Length of Fwd Packets</th>\n",
       "      <th>Total Length of Bwd Packets</th>\n",
       "      <th>Fwd Packet Length Max</th>\n",
       "      <th>Fwd Packet Length Min</th>\n",
       "      <th>Fwd Packet Length Mean</th>\n",
       "      <th>Fwd Packet Length Std</th>\n",
       "      <th>...</th>\n",
       "      <th>Active Std</th>\n",
       "      <th>Active Max</th>\n",
       "      <th>Active Min</th>\n",
       "      <th>Idle Mean</th>\n",
       "      <th>Idle Std</th>\n",
       "      <th>Idle Max</th>\n",
       "      <th>Idle Min</th>\n",
       "      <th>SimillarHTTP</th>\n",
       "      <th>Inbound</th>\n",
       "      <th>Label</th>\n",
       "    </tr>\n",
       "  </thead>\n",
       "  <tbody>\n",
       "    <tr>\n",
       "      <th>0</th>\n",
       "      <td>6</td>\n",
       "      <td>119360531</td>\n",
       "      <td>136</td>\n",
       "      <td>213</td>\n",
       "      <td>41528.0</td>\n",
       "      <td>155400.0</td>\n",
       "      <td>2955.0</td>\n",
       "      <td>0.0</td>\n",
       "      <td>305.352941</td>\n",
       "      <td>610.445587</td>\n",
       "      <td>...</td>\n",
       "      <td>1.522822e+06</td>\n",
       "      <td>2403023.0</td>\n",
       "      <td>249428.0</td>\n",
       "      <td>58229360.5</td>\n",
       "      <td>565451.372605</td>\n",
       "      <td>58629195.0</td>\n",
       "      <td>57829526.0</td>\n",
       "      <td>0.0</td>\n",
       "      <td>0</td>\n",
       "      <td>BENIGN</td>\n",
       "    </tr>\n",
       "    <tr>\n",
       "      <th>1</th>\n",
       "      <td>6</td>\n",
       "      <td>118838133</td>\n",
       "      <td>40</td>\n",
       "      <td>43</td>\n",
       "      <td>4216.0</td>\n",
       "      <td>16444.0</td>\n",
       "      <td>696.0</td>\n",
       "      <td>0.0</td>\n",
       "      <td>105.400000</td>\n",
       "      <td>188.610683</td>\n",
       "      <td>...</td>\n",
       "      <td>8.040554e+05</td>\n",
       "      <td>1152339.0</td>\n",
       "      <td>15233.0</td>\n",
       "      <td>58827757.0</td>\n",
       "      <td>223646.561181</td>\n",
       "      <td>58985899.0</td>\n",
       "      <td>58669615.0</td>\n",
       "      <td>0.0</td>\n",
       "      <td>0</td>\n",
       "      <td>BENIGN</td>\n",
       "    </tr>\n",
       "    <tr>\n",
       "      <th>2</th>\n",
       "      <td>6</td>\n",
       "      <td>108</td>\n",
       "      <td>1</td>\n",
       "      <td>2</td>\n",
       "      <td>0.0</td>\n",
       "      <td>0.0</td>\n",
       "      <td>0.0</td>\n",
       "      <td>0.0</td>\n",
       "      <td>0.000000</td>\n",
       "      <td>0.000000</td>\n",
       "      <td>...</td>\n",
       "      <td>0.000000e+00</td>\n",
       "      <td>0.0</td>\n",
       "      <td>0.0</td>\n",
       "      <td>0.0</td>\n",
       "      <td>0.000000</td>\n",
       "      <td>0.0</td>\n",
       "      <td>0.0</td>\n",
       "      <td>0.0</td>\n",
       "      <td>1</td>\n",
       "      <td>BENIGN</td>\n",
       "    </tr>\n",
       "    <tr>\n",
       "      <th>3</th>\n",
       "      <td>17</td>\n",
       "      <td>21925</td>\n",
       "      <td>2</td>\n",
       "      <td>2</td>\n",
       "      <td>62.0</td>\n",
       "      <td>94.0</td>\n",
       "      <td>31.0</td>\n",
       "      <td>31.0</td>\n",
       "      <td>31.000000</td>\n",
       "      <td>0.000000</td>\n",
       "      <td>...</td>\n",
       "      <td>0.000000e+00</td>\n",
       "      <td>0.0</td>\n",
       "      <td>0.0</td>\n",
       "      <td>0.0</td>\n",
       "      <td>0.000000</td>\n",
       "      <td>0.0</td>\n",
       "      <td>0.0</td>\n",
       "      <td>0.0</td>\n",
       "      <td>0</td>\n",
       "      <td>BENIGN</td>\n",
       "    </tr>\n",
       "    <tr>\n",
       "      <th>4</th>\n",
       "      <td>6</td>\n",
       "      <td>141</td>\n",
       "      <td>1</td>\n",
       "      <td>2</td>\n",
       "      <td>6.0</td>\n",
       "      <td>12.0</td>\n",
       "      <td>6.0</td>\n",
       "      <td>6.0</td>\n",
       "      <td>6.000000</td>\n",
       "      <td>0.000000</td>\n",
       "      <td>...</td>\n",
       "      <td>0.000000e+00</td>\n",
       "      <td>0.0</td>\n",
       "      <td>0.0</td>\n",
       "      <td>0.0</td>\n",
       "      <td>0.000000</td>\n",
       "      <td>0.0</td>\n",
       "      <td>0.0</td>\n",
       "      <td>0.0</td>\n",
       "      <td>1</td>\n",
       "      <td>BENIGN</td>\n",
       "    </tr>\n",
       "  </tbody>\n",
       "</table>\n",
       "<p>5 rows × 81 columns</p>\n",
       "</div>"
      ],
      "text/plain": [
       "    Protocol   Flow Duration   Total Fwd Packets   Total Backward Packets  \\\n",
       "0          6       119360531                 136                      213   \n",
       "1          6       118838133                  40                       43   \n",
       "2          6             108                   1                        2   \n",
       "3         17           21925                   2                        2   \n",
       "4          6             141                   1                        2   \n",
       "\n",
       "   Total Length of Fwd Packets   Total Length of Bwd Packets  \\\n",
       "0                      41528.0                      155400.0   \n",
       "1                       4216.0                       16444.0   \n",
       "2                          0.0                           0.0   \n",
       "3                         62.0                          94.0   \n",
       "4                          6.0                          12.0   \n",
       "\n",
       "    Fwd Packet Length Max   Fwd Packet Length Min   Fwd Packet Length Mean  \\\n",
       "0                  2955.0                     0.0               305.352941   \n",
       "1                   696.0                     0.0               105.400000   \n",
       "2                     0.0                     0.0                 0.000000   \n",
       "3                    31.0                    31.0                31.000000   \n",
       "4                     6.0                     6.0                 6.000000   \n",
       "\n",
       "    Fwd Packet Length Std  ...    Active Std   Active Max   Active Min  \\\n",
       "0              610.445587  ...  1.522822e+06    2403023.0     249428.0   \n",
       "1              188.610683  ...  8.040554e+05    1152339.0      15233.0   \n",
       "2                0.000000  ...  0.000000e+00          0.0          0.0   \n",
       "3                0.000000  ...  0.000000e+00          0.0          0.0   \n",
       "4                0.000000  ...  0.000000e+00          0.0          0.0   \n",
       "\n",
       "    Idle Mean       Idle Std    Idle Max    Idle Min  SimillarHTTP   Inbound  \\\n",
       "0  58229360.5  565451.372605  58629195.0  57829526.0           0.0         0   \n",
       "1  58827757.0  223646.561181  58985899.0  58669615.0           0.0         0   \n",
       "2         0.0       0.000000         0.0         0.0           0.0         1   \n",
       "3         0.0       0.000000         0.0         0.0           0.0         0   \n",
       "4         0.0       0.000000         0.0         0.0           0.0         1   \n",
       "\n",
       "    Label  \n",
       "0  BENIGN  \n",
       "1  BENIGN  \n",
       "2  BENIGN  \n",
       "3  BENIGN  \n",
       "4  BENIGN  \n",
       "\n",
       "[5 rows x 81 columns]"
      ]
     },
     "execution_count": 76,
     "metadata": {},
     "output_type": "execute_result"
    }
   ],
   "source": [
    "binary = pd.read_csv(\"binary.csv\")\n",
    "binary.head()"
   ]
  },
  {
   "cell_type": "code",
   "execution_count": 77,
   "metadata": {},
   "outputs": [
    {
     "name": "stdout",
     "output_type": "stream",
     "text": [
      "The text labels from the encoding will be passed to classification report so we can interpret our results more easily.\n",
      "\n",
      "Binary Label Encodings (in order of digits 0 -> 1): \n",
      "['BENIGN', 'ATTACK']\n",
      "\n",
      "Multiclass Label Encodings (in order of digits 0 -> n): \n",
      "['BENIGN', 'DNS', 'LDAP', 'MSSQL', 'NTP', 'NetBIOS', 'SNMP', 'SSDP', 'Syn', 'TFTP', 'UDP', 'UDP-lag']\n"
     ]
    }
   ],
   "source": [
    "y = binary[\" Label\"].copy()\n",
    "X = binary.drop([\" Label\"], axis=1)\n",
    "y_bin = [0 if x==\"BENIGN\" else 1 for x in y.values]\n",
    "\n",
    "print(\"The text labels from the encoding will be passed to classification report so we can interpret our results more easily.\\n\")\n",
    "binary_labels = [\"BENIGN\", \"ATTACK\"]\n",
    "\n",
    "print(\"Binary Label Encodings (in order of digits 0 -> 1): \")\n",
    "print(binary_labels)\n",
    "\n",
    "y_multi = y\n",
    "\n",
    "# Encode attack labels to int and save as array to be used later.\n",
    "le = LabelEncoder()\n",
    "y_multi = le.fit_transform(y_multi.values)\n",
    "\n",
    "# Offset encoding so it corresponds to our original encoding (no benign column, which is now -1)\n",
    "y_multi = [x-1 for x in y_multi]\n",
    "\n",
    "multiclass_labels = []\n",
    "print(\"\\nMulticlass Label Encodings (in order of digits 0 -> n): \")\n",
    "for i in range(0, len(list(set(list(y_multi))))):\n",
    "    multiclass_labels.append(le.inverse_transform([i])[0])\n",
    "\n",
    "print(multiclass_labels)"
   ]
  },
  {
   "cell_type": "markdown",
   "metadata": {},
   "source": [
    "Load models"
   ]
  },
  {
   "cell_type": "code",
   "execution_count": 123,
   "metadata": {},
   "outputs": [
    {
     "name": "stdout",
     "output_type": "stream",
     "text": [
      "WARNING:tensorflow:Layer lstm will not use cuDNN kernels since it doesn't meet the criteria. It will use a generic GPU kernel as fallback when running on GPU.\n",
      "WARNING:tensorflow:Layer lstm_1 will not use cuDNN kernels since it doesn't meet the criteria. It will use a generic GPU kernel as fallback when running on GPU.\n"
     ]
    }
   ],
   "source": [
    "# Load a binary model\n",
    "stage_1 = pickle.load(open(\"binary_model_test.pickle\", 'rb'))\n",
    "\n",
    "# Load a multiclass model\n",
    "stage_2 = keras.models.load_model('LSTM_big.h5')"
   ]
  },
  {
   "cell_type": "markdown",
   "metadata": {},
   "source": [
    "Stage 1 Prediction (Binary)"
   ]
  },
  {
   "cell_type": "code",
   "execution_count": 79,
   "metadata": {},
   "outputs": [],
   "source": [
    "y_pred = stage_1.predict(X)"
   ]
  },
  {
   "cell_type": "code",
   "execution_count": 129,
   "metadata": {},
   "outputs": [
    {
     "name": "stdout",
     "output_type": "stream",
     "text": [
      "              precision    recall  f1-score   support\n",
      "\n",
      "      BENIGN   0.999322  0.998662  0.998992     54571\n",
      "      ATTACK   0.998663  0.999322  0.998992     54571\n",
      "\n",
      "    accuracy                       0.998992    109142\n",
      "   macro avg   0.998992  0.998992  0.998992    109142\n",
      "weighted avg   0.998992  0.998992  0.998992    109142\n",
      "\n"
     ]
    }
   ],
   "source": [
    "print(classification_report(y_bin, y_pred, digits=6, target_names=binary_labels))"
   ]
  },
  {
   "cell_type": "markdown",
   "metadata": {},
   "source": [
    "Housekeeping to prepare the dataset for 2nd stage."
   ]
  },
  {
   "cell_type": "code",
   "execution_count": 106,
   "metadata": {},
   "outputs": [
    {
     "name": "stderr",
     "output_type": "stream",
     "text": [
      "C:\\Users\\icarus\\AppData\\Local\\Temp\\ipykernel_38016\\3257394839.py:8: SettingWithCopyWarning: \n",
      "A value is trying to be set on a copy of a slice from a DataFrame.\n",
      "Try using .loc[row_indexer,col_indexer] = value instead\n",
      "\n",
      "See the caveats in the documentation: https://pandas.pydata.org/pandas-docs/stable/user_guide/indexing.html#returning-a-view-versus-a-copy\n",
      "  X_rem['binary_pred'] = X_rem['binary_pred'].replace([0], -1)\n"
     ]
    }
   ],
   "source": [
    "# Create new dataframe out of binary predictions and multiclass labels that can be used to compare them later.\n",
    "X_agg = X.copy()\n",
    "X_agg[\"binary_pred\"] = y_pred.copy()\n",
    "X_agg[\" Labels\"] = y_multi.copy()\n",
    "\n",
    "# Slice out the portions that we've identified as benign and replace their label with that of the multiclass benign label for comparison later.\n",
    "X_rem = X_agg[X_agg[\"binary_pred\"] == 0]\n",
    "X_rem['binary_pred'] = X_rem['binary_pred'].replace([0], -1)\n",
    "\n",
    "# Slice out the portions we've labeled as attack for 2nd stage classification.\n",
    "X_mult = X_agg[X_agg[\"binary_pred\"] == 1]\n",
    "X_mult = X_mult.drop([\"binary_pred\"], axis = 1)\n",
    "y_mult = X_mult[\" Labels\"].copy()\n",
    "X_mult = X_mult.drop([\" Labels\"], axis = 1)"
   ]
  },
  {
   "cell_type": "code",
   "execution_count": 124,
   "metadata": {},
   "outputs": [
    {
     "name": "stdout",
     "output_type": "stream",
     "text": [
      "1707/1707 [==============================] - 4s 2ms/step\n"
     ]
    }
   ],
   "source": [
    "# Some reshaping is needed for the LSTM model to work\n",
    "scal = StandardScaler()\n",
    "X_tr = scal.fit_transform(X_mult)\n",
    "X_tr = np.reshape(X_tr, (X_mult.shape[0], 1, X_mult.shape[1]))\n",
    "\n",
    "y_pred2 = stage_2.predict(X_tr)\n",
    "y_pred2 = [np.argmax(x) for x in y_pred2]"
   ]
  },
  {
   "cell_type": "code",
   "execution_count": 128,
   "metadata": {},
   "outputs": [
    {
     "name": "stdout",
     "output_type": "stream",
     "text": [
      "              precision    recall  f1-score   support\n",
      "\n",
      "      BENIGN   0.000000  0.000000  0.000000        73\n",
      "         DNS   0.443235  0.665792  0.532183      4955\n",
      "        LDAP   0.168761  0.018952  0.034076      4960\n",
      "       MSSQL   0.509288  0.929566  0.658047      4955\n",
      "         NTP   0.973553  0.824788  0.893017      4954\n",
      "     NetBIOS   0.953339  0.984476  0.968657      4960\n",
      "        SNMP   0.592165  0.816569  0.686494      4961\n",
      "        SSDP   0.403395  0.349798  0.374690      4960\n",
      "         Syn   0.596165  0.998384  0.746546      4952\n",
      "        TFTP   0.987369  0.551724  0.707891      4959\n",
      "         UDP   0.473809  0.485178  0.479426      4959\n",
      "     UDP-lag   0.972917  0.188344  0.315594      4959\n",
      "\n",
      "    accuracy                       0.618492     54607\n",
      "   macro avg   0.589500  0.567798  0.533052     54607\n",
      "weighted avg   0.642222  0.618492  0.580679     54607\n",
      "\n"
     ]
    },
    {
     "name": "stderr",
     "output_type": "stream",
     "text": [
      "c:\\Users\\icarus\\AppData\\Local\\Programs\\Python\\Python310\\lib\\site-packages\\sklearn\\metrics\\_classification.py:1327: UndefinedMetricWarning: Precision and F-score are ill-defined and being set to 0.0 in labels with no predicted samples. Use `zero_division` parameter to control this behavior.\n",
      "  _warn_prf(average, modifier, msg_start, len(result))\n",
      "c:\\Users\\icarus\\AppData\\Local\\Programs\\Python\\Python310\\lib\\site-packages\\sklearn\\metrics\\_classification.py:1327: UndefinedMetricWarning: Precision and F-score are ill-defined and being set to 0.0 in labels with no predicted samples. Use `zero_division` parameter to control this behavior.\n",
      "  _warn_prf(average, modifier, msg_start, len(result))\n",
      "c:\\Users\\icarus\\AppData\\Local\\Programs\\Python\\Python310\\lib\\site-packages\\sklearn\\metrics\\_classification.py:1327: UndefinedMetricWarning: Precision and F-score are ill-defined and being set to 0.0 in labels with no predicted samples. Use `zero_division` parameter to control this behavior.\n",
      "  _warn_prf(average, modifier, msg_start, len(result))\n"
     ]
    }
   ],
   "source": [
    "print(classification_report(y_mult, y_pred2, digits=6, target_names=multiclass_labels))"
   ]
  },
  {
   "cell_type": "markdown",
   "metadata": {},
   "source": [
    "Final Calculation of Results"
   ]
  },
  {
   "cell_type": "code",
   "execution_count": 131,
   "metadata": {},
   "outputs": [
    {
     "name": "stdout",
     "output_type": "stream",
     "text": [
      "              precision    recall  f1-score   support\n",
      "\n",
      "      BENIGN   0.999322  0.998662  0.998992     54571\n",
      "         DNS   0.443235  0.664987  0.531925      4961\n",
      "        LDAP   0.168761  0.018948  0.034070      4961\n",
      "       MSSQL   0.509288  0.928442  0.657765      4961\n",
      "         NTP   0.973553  0.823624  0.892335      4961\n",
      "     NetBIOS   0.953339  0.984277  0.968561      4961\n",
      "        SNMP   0.592165  0.816569  0.686494      4961\n",
      "        SSDP   0.403395  0.349728  0.374649      4961\n",
      "         Syn   0.596165  0.996573  0.746039      4961\n",
      "        TFTP   0.987369  0.551502  0.707708      4961\n",
      "         UDP   0.473809  0.484983  0.479331      4961\n",
      "     UDP-lag   0.972917  0.188268  0.315487      4961\n",
      "\n",
      "    accuracy                       0.808781    109142\n",
      "   macro avg   0.672776  0.650547  0.616113    109142\n",
      "weighted avg   0.821206  0.808781  0.790149    109142\n",
      "\n"
     ]
    }
   ],
   "source": [
    "y_pred_final = list(X_rem[\"binary_pred\"].values.copy())\n",
    "y_pred_final.extend(y_pred2)\n",
    "\n",
    "y_true_final = list(X_rem[\" Labels\"].values.copy())\n",
    "y_true_final.extend(y_mult.values)\n",
    "\n",
    "print(classification_report(y_true_final, y_pred_final, digits=6, target_names=multiclass_labels))"
   ]
  }
 ],
 "metadata": {
  "kernelspec": {
   "display_name": "Python 3.10.4 64-bit",
   "language": "python",
   "name": "python3"
  },
  "language_info": {
   "codemirror_mode": {
    "name": "ipython",
    "version": 3
   },
   "file_extension": ".py",
   "mimetype": "text/x-python",
   "name": "python",
   "nbconvert_exporter": "python",
   "pygments_lexer": "ipython3",
   "version": "3.10.4"
  },
  "orig_nbformat": 4,
  "vscode": {
   "interpreter": {
    "hash": "4593b52a31704b5155580280f0f05a500adb36bf97584c7e94e26dfe17ea16d9"
   }
  }
 },
 "nbformat": 4,
 "nbformat_minor": 2
}
