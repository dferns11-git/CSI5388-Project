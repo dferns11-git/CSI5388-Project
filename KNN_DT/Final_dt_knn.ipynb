{
 "cells": [
  {
   "cell_type": "code",
   "execution_count": 1,
   "id": "b346cb4b",
   "metadata": {},
   "outputs": [],
   "source": [
    "import sys\n",
    "\n",
    "sys.path.append('/Users/saiviswanth/Desktop/App_ML/env/lib/python3.9/site-packages')"
   ]
  },
  {
   "cell_type": "code",
   "execution_count": 22,
   "id": "c341e048",
   "metadata": {},
   "outputs": [],
   "source": [
    "import numpy as np\n",
    "import pandas as pd\n",
    "import numpy as np\n",
    "from sklearn.neighbors import KNeighborsClassifier\n",
    "from sklearn.tree import DecisionTreeClassifier\n",
    "from sklearn.preprocessing import LabelEncoder\n",
    "from sklearn.model_selection import train_test_split\n",
    "from sklearn.model_selection import KFold \n",
    "from sklearn.metrics import accuracy_score\n",
    "from sklearn.metrics import recall_score"
   ]
  },
  {
   "cell_type": "code",
   "execution_count": 3,
   "id": "9e403f3a",
   "metadata": {},
   "outputs": [],
   "source": [
    "binary_data = pd.read_csv('binary.csv')\n",
    "mul_data = pd.read_csv('multiclass.csv')"
   ]
  },
  {
   "cell_type": "code",
   "execution_count": 4,
   "id": "d13a706c",
   "metadata": {},
   "outputs": [],
   "source": [
    "binary_data[\" Label\"] = binary_data[\" Label\"].apply(lambda x: 0 if x == \"BENIGN\" else 1)"
   ]
  },
  {
   "cell_type": "code",
   "execution_count": 5,
   "id": "381c906d",
   "metadata": {},
   "outputs": [],
   "source": [
    "binary_features = binary_data.iloc[:,:-1]\n",
    "binary_label = binary_data.iloc[:,-1]"
   ]
  },
  {
   "cell_type": "code",
   "execution_count": 6,
   "id": "24a27a41",
   "metadata": {},
   "outputs": [],
   "source": [
    "x_train, x_test, y_train, y_test = train_test_split(binary_features, binary_label, test_size = 0.3)"
   ]
  },
  {
   "cell_type": "markdown",
   "id": "4d76181a",
   "metadata": {},
   "source": [
    "### Cross Validation KNN classifier for binary-Classification"
   ]
  },
  {
   "cell_type": "code",
   "execution_count": 7,
   "id": "57333e77",
   "metadata": {},
   "outputs": [],
   "source": [
    "import pickle"
   ]
  },
  {
   "cell_type": "code",
   "execution_count": 13,
   "id": "48320731",
   "metadata": {},
   "outputs": [
    {
     "name": "stdout",
     "output_type": "stream",
     "text": [
      "0.0\n",
      "0.9923175416133163\n",
      "1.0\n"
     ]
    }
   ],
   "source": [
    "k = 5\n",
    "\n",
    "kf = KFold(n_splits=k, random_state=None)\n",
    "knn = KNeighborsClassifier()\n",
    " \n",
    "acc_score = []\n",
    "re_score = []\n",
    "\n",
    "\n",
    "for i ,(train_index , test_index) in enumerate(kf.split(binary_features)):\n",
    "    \n",
    "\n",
    "    x_train , x_test = binary_features.iloc[train_index,:],binary_features.iloc[test_index,:]\n",
    "    y_train , y_test = binary_label[train_index] , binary_label[test_index]\n",
    "     \n",
    "    knn.fit(x_train,y_train)\n",
    "    pred_values = knn.predict(x_test)\n",
    "     \n",
    "    acc = accuracy_score(pred_values , y_test)\n",
    "    recall = recall_score(pred_values, y_test)\n",
    "    \n",
    "    acc_score.append(acc)\n",
    "    re_score.append(recall)\n",
    "    \n",
    "    \n",
    "    if(i==0):\n",
    "        pickle.dump(knn, open('knn_binary.pkl', 'wb'))\n",
    "        print(recall)\n",
    "    \n",
    "    if(i>0):\n",
    "        if(recall > re_score[i-1]):\n",
    "            print(recall)\n",
    "            pickle.dump(knn, open('knn_binary.pkl', 'wb'))\n",
    "\n",
    "    "
   ]
  },
  {
   "cell_type": "code",
   "execution_count": 15,
   "id": "c2bfd7e6",
   "metadata": {},
   "outputs": [
    {
     "data": {
      "text/plain": [
       "[0.9907004443630033,\n",
       " 0.9893261257959595,\n",
       " 0.9931739050760491,\n",
       " 0.9394814000366501,\n",
       " 0.458631115997801]"
      ]
     },
     "execution_count": 15,
     "metadata": {},
     "output_type": "execute_result"
    }
   ],
   "source": [
    "acc_score"
   ]
  },
  {
   "cell_type": "code",
   "execution_count": 16,
   "id": "b26ecc6d",
   "metadata": {},
   "outputs": [
    {
     "data": {
      "text/plain": [
       "[0.0, 0.0, 0.9923175416133163, 1.0, 1.0]"
      ]
     },
     "execution_count": 16,
     "metadata": {},
     "output_type": "execute_result"
    }
   ],
   "source": [
    "re_score"
   ]
  },
  {
   "cell_type": "markdown",
   "id": "14f45d22",
   "metadata": {},
   "source": [
    "### Cross Validation DT classifier for binary-Classification"
   ]
  },
  {
   "cell_type": "code",
   "execution_count": 17,
   "id": "0193437d",
   "metadata": {},
   "outputs": [
    {
     "name": "stdout",
     "output_type": "stream",
     "text": [
      "0.0\n",
      "0.9999082232011748\n",
      "1.0\n"
     ]
    }
   ],
   "source": [
    "k = 5\n",
    "\n",
    "kf = KFold(n_splits=k, random_state=None)\n",
    "\n",
    "clf = DecisionTreeClassifier()\n",
    "\n",
    "acc_score = []\n",
    "re_score = []\n",
    "\n",
    "for i , (train_index , test_index) in enumerate(kf.split(binary_features)):\n",
    "\n",
    "    x_train , x_test = binary_features.iloc[train_index,:],binary_features.iloc[test_index,:]\n",
    "    y_train , y_test = binary_label[train_index] , binary_label[test_index]\n",
    "     \n",
    "    clf.fit(x_train,y_train)\n",
    "    pred_values = clf.predict(x_test)\n",
    "     \n",
    "    acc = accuracy_score(pred_values , y_test)\n",
    "    recall = recall_score(pred_values, y_test)\n",
    "    \n",
    "    acc_score.append(acc)\n",
    "    re_score.append(recall)\n",
    "    \n",
    "    if(i==0):\n",
    "        pickle.dump(clf, open('dt_binary.pkl', 'wb'))\n",
    "        print(recall)\n",
    "    \n",
    "    if(i>0):\n",
    "        if(recall > re_score[i-1]):\n",
    "            print(recall)\n",
    "            pickle.dump(clf, open('dt_binary.pkl', 'wb'))\n",
    "            \n"
   ]
  },
  {
   "cell_type": "code",
   "execution_count": 18,
   "id": "2996a8f3",
   "metadata": {},
   "outputs": [
    {
     "data": {
      "text/plain": [
       "[0.9998625681432957,\n",
       " 0.9993128407164781,\n",
       " 0.9990379329301814,\n",
       " 0.9860729338464358,\n",
       " 0.5951530144768188]"
      ]
     },
     "execution_count": 18,
     "metadata": {},
     "output_type": "execute_result"
    }
   ],
   "source": [
    "acc_score"
   ]
  },
  {
   "cell_type": "code",
   "execution_count": 19,
   "id": "3f22d0fc",
   "metadata": {},
   "outputs": [
    {
     "data": {
      "text/plain": [
       "[0.0, 0.0, 0.9999082232011748, 1.0, 1.0]"
      ]
     },
     "execution_count": 19,
     "metadata": {},
     "output_type": "execute_result"
    }
   ],
   "source": [
    "re_score"
   ]
  },
  {
   "cell_type": "code",
   "execution_count": 15,
   "id": "92053a96",
   "metadata": {},
   "outputs": [],
   "source": [
    "from sklearn.metrics import classification_report"
   ]
  },
  {
   "cell_type": "markdown",
   "id": "74819e9d",
   "metadata": {},
   "source": [
    "### Multi Classification"
   ]
  },
  {
   "cell_type": "code",
   "execution_count": 24,
   "id": "4328a006",
   "metadata": {},
   "outputs": [],
   "source": [
    "mul_features = mul_data.iloc[:,:-1]\n",
    "mul_label = mul_data.iloc[:,-1]"
   ]
  },
  {
   "cell_type": "code",
   "execution_count": 25,
   "id": "c4c47a50",
   "metadata": {},
   "outputs": [],
   "source": [
    "labelencoder = LabelEncoder()"
   ]
  },
  {
   "cell_type": "markdown",
   "id": "fac14985",
   "metadata": {},
   "source": [
    "### Encoding 10 classes in multi-classification"
   ]
  },
  {
   "cell_type": "code",
   "execution_count": 26,
   "id": "e65b5b46",
   "metadata": {},
   "outputs": [],
   "source": [
    "mul_label_enc = labelencoder.fit_transform(mul_label)"
   ]
  },
  {
   "cell_type": "code",
   "execution_count": 27,
   "id": "6c63cc7e",
   "metadata": {},
   "outputs": [],
   "source": [
    "x_train, x_test, y_train, y_test = train_test_split(mul_features, mul_label_enc , test_size = 0.25)"
   ]
  },
  {
   "cell_type": "markdown",
   "id": "68cd84cb",
   "metadata": {},
   "source": [
    "### Cross Validation KNN classifier for multi-Classification"
   ]
  },
  {
   "cell_type": "code",
   "execution_count": 30,
   "id": "4441311c",
   "metadata": {},
   "outputs": [
    {
     "name": "stdout",
     "output_type": "stream",
     "text": [
      "0.6246804187243398\n",
      "0.6254184779893069\n",
      "0.6257682506370859\n"
     ]
    }
   ],
   "source": [
    "k = 5\n",
    "\n",
    "kf = KFold(n_splits=k, random_state=42, shuffle=True)\n",
    "knn_mul = KNeighborsClassifier()\n",
    " \n",
    "acc_score = []\n",
    "re_score = []\n",
    "\n",
    "for i , (train_index , test_index) in enumerate(kf.split(mul_features)):\n",
    "    x_train , x_test = mul_features.iloc[train_index,:],mul_features.iloc[test_index,:]\n",
    "    y_train , y_test = mul_label_enc[train_index] , mul_label_enc[test_index]\n",
    "     \n",
    "    knn_mul.fit(x_train,y_train)\n",
    "    pred_values = knn_mul.predict(x_test)    \n",
    "     \n",
    "    acc = accuracy_score(y_test , pred_values)\n",
    "    recall = recall_score(y_test, pred_values,average=\"micro\")\n",
    "    \n",
    "    acc_score.append(acc)\n",
    "    re_score.append(recall)\n",
    "    \n",
    "    \n",
    "    if(i==0):\n",
    "        pickle.dump(knn_mul, open('knn_multi.pkl', 'wb'))\n",
    "        print(recall)\n",
    "    \n",
    "    if(i>0):\n",
    "        if(recall > re_score[i-1]):\n",
    "            print(recall)\n",
    "            pickle.dump(knn_mul, open('knn_multi.pkl', 'wb'))"
   ]
  },
  {
   "cell_type": "code",
   "execution_count": 31,
   "id": "681c605e",
   "metadata": {},
   "outputs": [
    {
     "data": {
      "text/plain": [
       "[0.6246804187243398,\n",
       " 0.6220123586335549,\n",
       " 0.6254184779893069,\n",
       " 0.6204217258781792,\n",
       " 0.6257682506370859]"
      ]
     },
     "execution_count": 31,
     "metadata": {},
     "output_type": "execute_result"
    }
   ],
   "source": [
    "acc_score"
   ]
  },
  {
   "cell_type": "code",
   "execution_count": 32,
   "id": "9fecf8a6",
   "metadata": {},
   "outputs": [
    {
     "data": {
      "text/plain": [
       "[0.6246804187243398,\n",
       " 0.6220123586335549,\n",
       " 0.6254184779893069,\n",
       " 0.6204217258781792,\n",
       " 0.6257682506370859]"
      ]
     },
     "execution_count": 32,
     "metadata": {},
     "output_type": "execute_result"
    }
   ],
   "source": [
    "re_score"
   ]
  },
  {
   "cell_type": "code",
   "execution_count": 33,
   "id": "c377adfd",
   "metadata": {},
   "outputs": [],
   "source": [
    "avg_acc_score = sum(acc_score)/k\n",
    "avg_rec_score = sum(re_score)/k"
   ]
  },
  {
   "cell_type": "code",
   "execution_count": 34,
   "id": "65d9497a",
   "metadata": {},
   "outputs": [
    {
     "name": "stdout",
     "output_type": "stream",
     "text": [
      "accuracy of each fold multiclass- [0.6246804187243398, 0.6220123586335549, 0.6254184779893069, 0.6204217258781792, 0.6257682506370859]\n",
      "Avg accuracy multiclass: 0.6236602463724934\n",
      "\n",
      "\n",
      "Recall of each fold multiclass- [0.6246804187243398, 0.6220123586335549, 0.6254184779893069, 0.6204217258781792, 0.6257682506370859]\n",
      "Avg Recall score multiclass: 0.6236602463724934\n"
     ]
    }
   ],
   "source": [
    "print('accuracy of each fold multiclass- {}'.format(acc_score))\n",
    "print('Avg accuracy multiclass: {}'.format(avg_acc_score))\n",
    "\n",
    "print('\\n')\n",
    "\n",
    "print('Recall of each fold multiclass- {}'.format(re_score))\n",
    "print('Avg Recall score multiclass: {}'.format(avg_rec_score))"
   ]
  },
  {
   "cell_type": "markdown",
   "id": "a01ae045",
   "metadata": {},
   "source": [
    "### Cross Validation Decision Tree classifier for multi-Classification"
   ]
  },
  {
   "cell_type": "code",
   "execution_count": 36,
   "id": "73a40de4",
   "metadata": {},
   "outputs": [
    {
     "name": "stdout",
     "output_type": "stream",
     "text": [
      "0.7374884122680978\n",
      "0.7348552827770177\n",
      "0.7366459057147076\n"
     ]
    }
   ],
   "source": [
    "k = 5\n",
    "\n",
    "kf = KFold(n_splits=k, random_state=42, shuffle=True)\n",
    "\n",
    "clf2 = DecisionTreeClassifier()\n",
    "\n",
    "acc_score = []\n",
    "re_score = []\n",
    "\n",
    "for i , (train_index , test_index) in enumerate(kf.split(mul_features)):\n",
    "    \n",
    "    x_train , x_test = mul_features.iloc[train_index,:],mul_features.iloc[test_index,:]\n",
    "    y_train , y_test = mul_label_enc[train_index] , mul_label_enc[test_index]\n",
    "     \n",
    "    clf2.fit(x_train,y_train)\n",
    "    pred_values = clf2.predict(x_test)\n",
    "     \n",
    "    acc = accuracy_score(y_test, pred_values)\n",
    "    recall = recall_score(y_test,pred_values, average='macro')\n",
    "    \n",
    "    acc_score.append(acc)\n",
    "    re_score.append(recall)\n",
    "    \n",
    "    if(i==0):\n",
    "        pickle.dump(clf2, open('dt_multi.pkl', 'wb'))\n",
    "        print(recall)\n",
    "    \n",
    "    if(i>0):\n",
    "        if(recall > re_score[i-1]):\n",
    "            print(recall)\n",
    "            pickle.dump(clf2, open('dt_multi.pkl', 'wb'))"
   ]
  },
  {
   "cell_type": "code",
   "execution_count": 37,
   "id": "23948135",
   "metadata": {},
   "outputs": [
    {
     "data": {
      "text/plain": [
       "[0.7368315858726339,\n",
       " 0.7364796215793068,\n",
       " 0.7326237945335532,\n",
       " 0.7354386315561552,\n",
       " 0.7375705791235697]"
      ]
     },
     "execution_count": 37,
     "metadata": {},
     "output_type": "execute_result"
    }
   ],
   "source": [
    "acc_score"
   ]
  },
  {
   "cell_type": "code",
   "execution_count": 38,
   "id": "9b557d1b",
   "metadata": {},
   "outputs": [
    {
     "data": {
      "text/plain": [
       "[0.7374884122680978,\n",
       " 0.7363425436459798,\n",
       " 0.7336692481298477,\n",
       " 0.7348552827770177,\n",
       " 0.7366459057147076]"
      ]
     },
     "execution_count": 38,
     "metadata": {},
     "output_type": "execute_result"
    }
   ],
   "source": [
    "re_score"
   ]
  },
  {
   "cell_type": "markdown",
   "id": "e71070a4",
   "metadata": {},
   "source": [
    " "
   ]
  },
  {
   "cell_type": "code",
   "execution_count": 39,
   "id": "719b86a9",
   "metadata": {},
   "outputs": [],
   "source": [
    "avg_acc_score = sum(acc_score)/k\n",
    "avg_rec_score = sum(re_score)/k"
   ]
  },
  {
   "cell_type": "code",
   "execution_count": 40,
   "id": "ecf798c4",
   "metadata": {},
   "outputs": [
    {
     "name": "stdout",
     "output_type": "stream",
     "text": [
      "accuracy of each fold multiclass- [0.7368315858726339, 0.7364796215793068, 0.7326237945335532, 0.7354386315561552, 0.7375705791235697]\n",
      "Avg accuracy multiclass: 0.7357888425330438\n",
      "\n",
      "\n",
      "Recall of each fold multiclass- [0.7374884122680978, 0.7363425436459798, 0.7336692481298477, 0.7348552827770177, 0.7366459057147076]\n",
      "Avg Recall score multiclass: 0.7358002785071301\n"
     ]
    }
   ],
   "source": [
    "print('accuracy of each fold multiclass- {}'.format(acc_score))\n",
    "print('Avg accuracy multiclass: {}'.format(avg_acc_score))\n",
    "\n",
    "print('\\n')\n",
    "\n",
    "print('Recall of each fold multiclass- {}'.format(re_score))\n",
    "print('Avg Recall score multiclass: {}'.format(avg_rec_score))"
   ]
  },
  {
   "cell_type": "code",
   "execution_count": null,
   "id": "c07b186a",
   "metadata": {},
   "outputs": [],
   "source": []
  }
 ],
 "metadata": {
  "kernelspec": {
   "display_name": "Python 3 (ipykernel)",
   "language": "python",
   "name": "python3"
  },
  "language_info": {
   "codemirror_mode": {
    "name": "ipython",
    "version": 3
   },
   "file_extension": ".py",
   "mimetype": "text/x-python",
   "name": "python",
   "nbconvert_exporter": "python",
   "pygments_lexer": "ipython3",
   "version": "3.9.7"
  }
 },
 "nbformat": 4,
 "nbformat_minor": 5
}
