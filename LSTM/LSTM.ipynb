{
  "nbformat": 4,
  "nbformat_minor": 0,
  "metadata": {
    "colab": {
      "provenance": []
    },
    "kernelspec": {
      "name": "python3",
      "display_name": "Python 3"
    },
    "language_info": {
      "name": "python"
    }
  },
  "cells": [
    {
      "cell_type": "code",
      "execution_count": 14,
      "metadata": {
        "id": "AE7EC4nJ9dbY"
      },
      "outputs": [],
      "source": [
        "import numpy as np\n",
        "import pandas as pd\n",
        "import seaborn as sns\n",
        "import statistics as stats\n",
        "from sklearn.model_selection import cross_val_score\n",
        "from sklearn.model_selection import train_test_split\n",
        "from sklearn.metrics import precision_score, recall_score, f1_score\n",
        "import io # StringIO\n",
        "import keras\n",
        "from keras.models import Sequential\n",
        "from keras.layers import LSTM, Dense\n",
        "from sklearn.preprocessing import LabelEncoder\n",
        "import matplotlib.pyplot as plt"
      ]
    },
    {
      "cell_type": "code",
      "source": [
        "df_bin = pd.read_csv(\"binary.csv\")"
      ],
      "metadata": {
        "id": "SyoU5B3W-_3j"
      },
      "execution_count": 3,
      "outputs": []
    },
    {
      "cell_type": "code",
      "source": [
        "df_bin['label'] = df_bin[' Label'].apply(lambda l : 0 if l == 'BENIGN' else 1)"
      ],
      "metadata": {
        "id": "TxCRwRfT_G3f"
      },
      "execution_count": 4,
      "outputs": []
    },
    {
      "cell_type": "code",
      "source": [
        "X = df_bin.iloc[:, :-2]\n",
        "y = df_bin['label']"
      ],
      "metadata": {
        "id": "TzedTl3G_J0y"
      },
      "execution_count": 5,
      "outputs": []
    },
    {
      "cell_type": "code",
      "source": [
        "X_train0, X_test, y_train0, y_test = train_test_split(X, y, test_size = 0.2, stratify=y, random_state=42)\n",
        "X_train, X_val, y_train, y_val = train_test_split(X_train0, y_train0, test_size = 0.125, stratify=y_train0, random_state=42)"
      ],
      "metadata": {
        "id": "FSUKxGtB_NyL"
      },
      "execution_count": 6,
      "outputs": []
    },
    {
      "cell_type": "code",
      "source": [
        "X_tr = np.reshape(X_train.to_numpy(), (len(X_train), 1, 80))\n",
        "X_vl = np.reshape(X_val.to_numpy(), (len(X_val), 1, 80))\n",
        "X_tst = np.reshape(X_test.to_numpy(), (len(X_test), 1, 80))"
      ],
      "metadata": {
        "id": "lKoUMT8IpAZs"
      },
      "execution_count": 7,
      "outputs": []
    },
    {
      "cell_type": "code",
      "source": [
        "print(X_tr.shape)\n",
        "print(y_train.shape)"
      ],
      "metadata": {
        "id": "PI6tXdkIr8Kh"
      },
      "execution_count": null,
      "outputs": []
    },
    {
      "cell_type": "code",
      "source": [
        "normalizer = keras.layers.Normalization()\n",
        "normalizer.adapt(X_train)\n",
        "\n",
        "inputs = keras.Input(shape=(1, 80))\n",
        "\n",
        "x = normalizer(inputs)\n",
        "\n",
        "x = LSTM(512, activation='tanh', return_sequences=True)(x)\n",
        "x = LSTM(128, activation='tanh')(x)\n",
        "outputs = Dense(1, activation='sigmoid')(x)\n",
        "\n",
        "model = keras.Model(inputs=inputs, outputs=outputs, name='LSTM_model')\n",
        "model.compile(optimizer=\"Adam\", loss='binary_crossentropy', metrics=['accuracy'])\n",
        "model.summary()"
      ],
      "metadata": {
        "colab": {
          "base_uri": "https://localhost:8080/"
        },
        "id": "XyrjYFxlBjKJ",
        "outputId": "b9a457dc-d467-4e9d-85b5-0f5be0ebc64e"
      },
      "execution_count": 9,
      "outputs": [
        {
          "output_type": "stream",
          "name": "stdout",
          "text": [
            "Model: \"LSTM_model\"\n",
            "_________________________________________________________________\n",
            " Layer (type)                Output Shape              Param #   \n",
            "=================================================================\n",
            " input_1 (InputLayer)        [(None, 1, 80)]           0         \n",
            "                                                                 \n",
            " normalization (Normalizatio  (None, 1, 80)            161       \n",
            " n)                                                              \n",
            "                                                                 \n",
            " lstm (LSTM)                 (None, 1, 512)            1214464   \n",
            "                                                                 \n",
            " lstm_1 (LSTM)               (None, 128)               328192    \n",
            "                                                                 \n",
            " dense (Dense)               (None, 1)                 129       \n",
            "                                                                 \n",
            "=================================================================\n",
            "Total params: 1,542,946\n",
            "Trainable params: 1,542,785\n",
            "Non-trainable params: 161\n",
            "_________________________________________________________________\n"
          ]
        }
      ]
    },
    {
      "cell_type": "code",
      "source": [
        "history=model.fit(X_tr, y_train.to_numpy(), validation_data = (X_vl, y_val.to_numpy()), batch_size=len(X_tr), epochs=10)"
      ],
      "metadata": {
        "colab": {
          "base_uri": "https://localhost:8080/"
        },
        "id": "QXQdl5oNXPkn",
        "outputId": "c539211b-b933-462c-e050-1a0bb135c9c7"
      },
      "execution_count": 12,
      "outputs": [
        {
          "output_type": "stream",
          "name": "stdout",
          "text": [
            "Epoch 1/10\n",
            "1/1 [==============================] - 23s 23s/step - loss: 0.6929 - accuracy: 0.5361 - val_loss: 0.6684 - val_accuracy: 0.9634\n",
            "Epoch 2/10\n",
            "1/1 [==============================] - 21s 21s/step - loss: 0.6684 - accuracy: 0.9632 - val_loss: 0.6443 - val_accuracy: 0.9644\n",
            "Epoch 3/10\n",
            "1/1 [==============================] - 15s 15s/step - loss: 0.6440 - accuracy: 0.9639 - val_loss: 0.6192 - val_accuracy: 0.9643\n",
            "Epoch 4/10\n",
            "1/1 [==============================] - 15s 15s/step - loss: 0.6189 - accuracy: 0.9639 - val_loss: 0.5929 - val_accuracy: 0.9655\n",
            "Epoch 5/10\n",
            "1/1 [==============================] - 16s 16s/step - loss: 0.5924 - accuracy: 0.9652 - val_loss: 0.5650 - val_accuracy: 0.9651\n",
            "Epoch 6/10\n",
            "1/1 [==============================] - 15s 15s/step - loss: 0.5645 - accuracy: 0.9650 - val_loss: 0.5359 - val_accuracy: 0.9650\n",
            "Epoch 7/10\n",
            "1/1 [==============================] - 16s 16s/step - loss: 0.5353 - accuracy: 0.9648 - val_loss: 0.5057 - val_accuracy: 0.9649\n",
            "Epoch 8/10\n",
            "1/1 [==============================] - 17s 17s/step - loss: 0.5052 - accuracy: 0.9649 - val_loss: 0.4751 - val_accuracy: 0.9649\n",
            "Epoch 9/10\n",
            "1/1 [==============================] - 15s 15s/step - loss: 0.4746 - accuracy: 0.9647 - val_loss: 0.4445 - val_accuracy: 0.9648\n",
            "Epoch 10/10\n",
            "1/1 [==============================] - 16s 16s/step - loss: 0.4440 - accuracy: 0.9647 - val_loss: 0.4142 - val_accuracy: 0.9648\n"
          ]
        }
      ]
    },
    {
      "cell_type": "code",
      "source": [
        "#history=model.fit(X_tr, y_train.to_numpy(), batch_size=len(X_tr), epochs=10)\n",
        "path_new_model = \"/content/LSTM_binary.h5\"\n",
        "\n",
        "#Save final model\n",
        "#model.save(path_new_model)"
      ],
      "metadata": {
        "id": "g7NOEE_5jmi6"
      },
      "execution_count": 13,
      "outputs": []
    },
    {
      "cell_type": "code",
      "source": [
        "# list all data in history\n",
        "print(history.history.keys())\n",
        "# summarize history for accuracy\n",
        "plt.plot(history.history['accuracy'])\n",
        "plt.plot(history.history['val_accuracy'])\n",
        "plt.title('Model Accuracy')\n",
        "plt.ylabel('accuracy')\n",
        "plt.xlabel('epoch')\n",
        "plt.legend(['train', 'val'], loc='upper left')\n",
        "plt.savefig('/content/LSTM_binary_train.png')\n",
        "plt.show()\n",
        "# summarize history for loss\n",
        "plt.plot(history.history['loss'])\n",
        "plt.plot(history.history['val_loss'])\n",
        "plt.title('Model Loss')\n",
        "plt.ylabel('loss')\n",
        "plt.xlabel('epoch')\n",
        "plt.legend(['train', 'val'], loc='upper left')\n",
        "plt.savefig('/content/LSTM_binary_val.png')\n",
        "plt.show()"
      ],
      "metadata": {
        "colab": {
          "base_uri": "https://localhost:8080/",
          "height": 590
        },
        "id": "VAiHt-NIiKdG",
        "outputId": "34d4ac00-fb2d-4f6e-a970-168446c15801"
      },
      "execution_count": 15,
      "outputs": [
        {
          "output_type": "stream",
          "name": "stdout",
          "text": [
            "dict_keys(['loss', 'accuracy', 'val_loss', 'val_accuracy'])\n"
          ]
        },
        {
          "output_type": "display_data",
          "data": {
            "text/plain": [
              "<Figure size 432x288 with 1 Axes>"
            ],
            "image/png": "[encoded data removed]"
          },
          "metadata": {
            "needs_background": "light"
          }
        },
        {
          "output_type": "display_data",
          "data": {
            "text/plain": [
              "<Figure size 432x288 with 1 Axes>"
            ],
            "image/png": "[encoded data removed]"
          },
          "metadata": {
            "needs_background": "light"
          }
        }
      ]
    },
    {
      "cell_type": "code",
      "source": [
        "#Test metrics\n",
        "test_loss, test_acc = model.evaluate(X_tst, y_test, verbose=0)\n",
        "print('Test metrics: Loss {0} Accuracy: {1}'.format(test_loss,test_acc))\n",
        "\n",
        "#Test predictions\n",
        "prediction = model.predict(X_tst)"
      ],
      "metadata": {
        "colab": {
          "base_uri": "https://localhost:8080/"
        },
        "id": "nVCMPPm8jhjH",
        "outputId": "8c11fd33-59fd-47b1-cd7f-a5e12a2f6d1e"
      },
      "execution_count": 17,
      "outputs": [
        {
          "output_type": "stream",
          "name": "stdout",
          "text": [
            "Test metrics: Loss 0.41265249252319336 Accuracy: 0.9638554453849792\n",
            "683/683 [==============================] - 6s 7ms/step\n"
          ]
        }
      ]
    },
    {
      "cell_type": "code",
      "source": [
        "pred = [1 if prediction[i] >= 0.5 else 0 for i in range(len(prediction))]\n",
        "#pd.Series(pred).value_counts()"
      ],
      "metadata": {
        "id": "xG5GVLU8kWoL"
      },
      "execution_count": null,
      "outputs": []
    },
    {
      "cell_type": "code",
      "source": [
        "from sklearn.metrics import confusion_matrix, ConfusionMatrixDisplay\n",
        "\n",
        "cm = confusion_matrix(y_test, pred)\n",
        "disp = ConfusionMatrixDisplay(confusion_matrix=cm)\n",
        "disp.plot()\n",
        "plt.savefig('/content/LSTM_binary_test_ConfusionMatrix.png')\n",
        "print(cm)\n",
        "plt.show()"
      ],
      "metadata": {
        "colab": {
          "base_uri": "https://localhost:8080/",
          "height": 314
        },
        "id": "wUi7O_TJlkWf",
        "outputId": "11fd129e-7e7f-4449-9ac3-9e9180554197"
      },
      "execution_count": 28,
      "outputs": [
        {
          "output_type": "stream",
          "name": "stdout",
          "text": [
            "[[10844    71]\n",
            " [  718 10196]]\n"
          ]
        },
        {
          "output_type": "display_data",
          "data": {
            "text/plain": [
              "<Figure size 432x288 with 2 Axes>"
            ],
            "image/png": "[encoded data removed]"
          },
          "metadata": {
            "needs_background": "light"
          }
        }
      ]
    }
  ]
}