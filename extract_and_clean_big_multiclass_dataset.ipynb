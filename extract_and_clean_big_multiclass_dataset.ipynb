{
 "cells": [
  {
   "cell_type": "code",
   "execution_count": 1,
   "metadata": {},
   "outputs": [],
   "source": [
    "\"\"\"\n",
    "This was designed to get a bigger extract of attack data to see if it improves our Multiclass results.\n",
    "\n",
    "Author: Wesley\n",
    "\"\"\"\n",
    "import numpy as np\n",
    "import pandas as pd\n",
    "import dask.dataframe as dd # get dask with: pip install \"dask[complete]\"\n",
    "from os import listdir\n",
    "from os.path import isfile, join\n",
    "import os"
   ]
  },
  {
   "cell_type": "markdown",
   "metadata": {},
   "source": [
    "Since the original dataset files are too big to be loaded into memory, and since the benign cases are spread out across all the parts, we extract what we need from all of them to prepare our extract."
   ]
  },
  {
   "cell_type": "code",
   "execution_count": 2,
   "metadata": {},
   "outputs": [],
   "source": [
    "# Assumes we've placed program in root of dataset folder, where both days are subdirectories.\n",
    "path1 = os.getcwd() + \"/01-12\"\n",
    "path2 = os.getcwd() + \"/03-11\""
   ]
  },
  {
   "cell_type": "code",
   "execution_count": 3,
   "metadata": {},
   "outputs": [],
   "source": [
    "# Get list of files in each directory.\n",
    "fileList = [path1 + '/' + f for f in listdir(path1) if isfile(join(path1, f))]\n",
    "fileList2 = [path2 + '/' + f for f in listdir(path2) if isfile(join(path2, f))]"
   ]
  },
  {
   "cell_type": "code",
   "execution_count": 4,
   "metadata": {},
   "outputs": [],
   "source": [
    "\"\"\"\n",
    "Made this to see what was going on so I knew how much data to yank out.\n",
    "\"\"\"\n",
    "def peek(fileList):\n",
    "\n",
    "    print(\"Beginning extraction of benign data...\")\n",
    "    # First pass aggregates BENIGN data.\n",
    "    i = 0\n",
    "    outFrame = None\n",
    "    for f in fileList:\n",
    "        df = dd.read_csv(f, dtype={'SimillarHTTP': 'object'})\n",
    "        lind = f.rfind('/')\n",
    "        slind = f.rfind('/', 0,lind-1)\n",
    "        print(f[slind:])\n",
    "        print(f\"{df[' Label'].value_counts().compute()}\\n\")"
   ]
  },
  {
   "cell_type": "code",
   "execution_count": 5,
   "metadata": {},
   "outputs": [
    {
     "name": "stdout",
     "output_type": "stream",
     "text": [
      "Beginning extraction of benign data...\n",
      "/01-12/DrDoS_DNS.csv\n",
      "DrDoS_DNS    5071011\n",
      "BENIGN          3402\n",
      "Name:  Label, dtype: int64\n",
      "\n",
      "/01-12/DrDoS_LDAP.csv\n",
      "DrDoS_LDAP    2179930\n",
      "BENIGN           1612\n",
      "Name:  Label, dtype: int64\n",
      "\n",
      "/01-12/DrDoS_MSSQL.csv\n",
      "DrDoS_MSSQL    4522492\n",
      "BENIGN            2006\n",
      "Name:  Label, dtype: int64\n",
      "\n",
      "/01-12/DrDoS_NetBIOS.csv\n",
      "DrDoS_NetBIOS    4093279\n",
      "BENIGN              1707\n",
      "Name:  Label, dtype: int64\n",
      "\n",
      "/01-12/DrDoS_NTP.csv\n",
      "DrDoS_NTP    1202642\n",
      "BENIGN         14365\n",
      "Name:  Label, dtype: int64\n",
      "\n",
      "/01-12/DrDoS_SNMP.csv\n",
      "DrDoS_SNMP    5159870\n",
      "BENIGN           1507\n",
      "Name:  Label, dtype: int64\n",
      "\n",
      "/01-12/DrDoS_SSDP.csv\n",
      "DrDoS_SSDP    2610611\n",
      "BENIGN            763\n",
      "Name:  Label, dtype: int64\n",
      "\n",
      "/01-12/DrDoS_UDP.csv\n",
      "DrDoS_UDP    3134645\n",
      "BENIGN          2157\n",
      "Name:  Label, dtype: int64\n",
      "\n",
      "/01-12/Syn.csv\n",
      "Syn       1582289\n",
      "BENIGN        392\n",
      "Name:  Label, dtype: int64\n",
      "\n",
      "/01-12/TFTP.csv\n",
      "TFTP      20082580\n",
      "BENIGN       25247\n",
      "Name:  Label, dtype: int64\n",
      "\n",
      "/01-12/UDPLag.csv\n",
      "UDP-lag    366461\n",
      "BENIGN       3705\n",
      "WebDDoS       439\n",
      "Name:  Label, dtype: int64\n",
      "\n",
      "Beginning extraction of benign data...\n",
      "/03-11/LDAP.csv\n",
      "LDAP       1905191\n",
      "NetBIOS     202919\n",
      "BENIGN        5124\n",
      "Name:  Label, dtype: int64\n",
      "\n",
      "/03-11/MSSQL.csv\n",
      "MSSQL     5763061\n",
      "LDAP         9931\n",
      "BENIGN       2794\n",
      "Name:  Label, dtype: int64\n",
      "\n",
      "/03-11/NetBIOS.csv\n",
      "NetBIOS    3454578\n",
      "BENIGN        1321\n",
      "Name:  Label, dtype: int64\n",
      "\n",
      "/03-11/Portmap.csv\n",
      "Portmap    186960\n",
      "BENIGN       4734\n",
      "Name:  Label, dtype: int64\n",
      "\n",
      "/03-11/Syn.csv\n",
      "Syn       4284751\n",
      "BENIGN      35790\n",
      "Name:  Label, dtype: int64\n",
      "\n",
      "/03-11/UDP.csv\n",
      "UDP       3754680\n",
      "MSSQL       24392\n",
      "BENIGN       3134\n",
      "Name:  Label, dtype: int64\n",
      "\n",
      "/03-11/UDPLag.csv\n",
      "Syn       606749\n",
      "UDP       112475\n",
      "BENIGN      4068\n",
      "UDPLag      1873\n",
      "Name:  Label, dtype: int64\n",
      "\n"
     ]
    }
   ],
   "source": [
    "peek(fileList)\n",
    "peek(fileList2)"
   ]
  },
  {
   "cell_type": "code",
   "execution_count": 8,
   "metadata": {},
   "outputs": [],
   "source": [
    "\"\"\"\n",
    "This function extracts attack data for day 1.\n",
    "\n",
    "Needs Dask due to how large many of the datasets are.\n",
    "\"\"\"\n",
    "def extract(fileList):\n",
    "\n",
    "    outFrame = None\n",
    "\n",
    "    # Get an upper bound on the number of attack samples to extract. Goal is to get enough to be able to make them all equal after cleaning.\n",
    "    ben_num = 366000\n",
    "    \n",
    "    print(\"Beginning extraction of attack data...\")\n",
    "\n",
    "    # Second pass pulls out attack data equal in quantity to the count of benign data that we've gathered.\n",
    "    for f in fileList:\n",
    "        df = dd.read_csv(f, dtype={'SimillarHTTP': 'object'})\n",
    "        lind = f.rfind('/')\n",
    "        slind = f.rfind('/', 0,lind-1)\n",
    "        print(f[slind:])\n",
    "  \n",
    "        # Get list of label categories\n",
    "        cats = list(set(list(df[' Label'])))\n",
    "\n",
    "        # Go through non-benign categories and add a subsample equal in quantity to the number of benign samples.\n",
    "        for cat in cats:\n",
    "\n",
    "            if cat != \"BENIGN\":\n",
    "\n",
    "                print(f\"Appending data for {cat}...\")\n",
    "                # Find our how many samples we have\n",
    "                cat_df = df[df[' Label'] == cat]\n",
    "                shcat = cat_df.shape\n",
    "                cat_num = shcat[0].compute()\n",
    "\n",
    "                # Get a sample if there is equal/more attack data, otherwise add everything.\n",
    "                # dask only does approximate sampling, so we'll have to do some post-processing to make the numbers exactly equal.\n",
    "                if cat_num > ben_num:\n",
    "                    ret_df = cat_df.sample(frac = ben_num / cat_num)\n",
    "\n",
    "                else:\n",
    "                    ret_df = cat_df\n",
    "\n",
    "                if outFrame is None:\n",
    "                    outFrame = ret_df\n",
    "                else:\n",
    "                    outFrame = dd.concat([outFrame, ret_df])\n",
    "\n",
    "    # Return our aggregated DataFrame\n",
    "    print(f\"Aggregated df stats: {outFrame[' Label'].value_counts().compute()}\\n\")\n",
    "    print(\"Extraction completed.\")\n",
    "    return outFrame\n",
    "    \n"
   ]
  },
  {
   "cell_type": "code",
   "execution_count": 9,
   "metadata": {},
   "outputs": [
    {
     "name": "stdout",
     "output_type": "stream",
     "text": [
      "Beginning extraction of attack data...\n",
      "/01-12/DrDoS_DNS.csv\n",
      "Appending data for DrDoS_DNS...\n",
      "/01-12/DrDoS_LDAP.csv\n",
      "Appending data for DrDoS_LDAP...\n",
      "/01-12/DrDoS_MSSQL.csv\n",
      "Appending data for DrDoS_MSSQL...\n",
      "/01-12/DrDoS_NetBIOS.csv\n",
      "Appending data for DrDoS_NetBIOS...\n",
      "/01-12/DrDoS_NTP.csv\n",
      "Appending data for DrDoS_NTP...\n",
      "/01-12/DrDoS_SNMP.csv\n",
      "Appending data for DrDoS_SNMP...\n",
      "/01-12/DrDoS_SSDP.csv\n",
      "Appending data for DrDoS_SSDP...\n",
      "/01-12/DrDoS_UDP.csv\n",
      "Appending data for DrDoS_UDP...\n",
      "/01-12/Syn.csv\n",
      "Appending data for Syn...\n",
      "/01-12/TFTP.csv\n",
      "Appending data for TFTP...\n",
      "/01-12/UDPLag.csv\n",
      "Appending data for UDP-lag...\n",
      "Appending data for WebDDoS...\n",
      "Aggregated df stats: DrDoS_SNMP       366003\n",
      "DrDoS_DNS        366001\n",
      "DrDoS_NTP        366001\n",
      "DrDoS_NetBIOS    366001\n",
      "DrDoS_UDP        366001\n",
      "Syn              366001\n",
      "DrDoS_MSSQL      366000\n",
      "UDP-lag          366000\n",
      "DrDoS_LDAP       365998\n",
      "DrDoS_SSDP       365998\n",
      "TFTP             365998\n",
      "WebDDoS             439\n",
      "Name:  Label, dtype: int64\n",
      "\n",
      "Extraction completed.\n"
     ]
    }
   ],
   "source": [
    "# Day 1\n",
    "train = extract(fileList)"
   ]
  },
  {
   "cell_type": "markdown",
   "metadata": {},
   "source": [
    "Save extracts, then reload them to finish processing."
   ]
  },
  {
   "cell_type": "code",
   "execution_count": 10,
   "metadata": {},
   "outputs": [
    {
     "data": {
      "text/plain": [
       "['c:\\\\Users\\\\icarus\\\\Documents\\\\school\\\\Fall 2022\\\\CSI 5388\\\\dataset\\\\day1_bigAttack.csv']"
      ]
     },
     "execution_count": 10,
     "metadata": {},
     "output_type": "execute_result"
    }
   ],
   "source": [
    "dd.to_csv(df = train, filename = \"day1_bigAttack.csv\", single_file=True)"
   ]
  },
  {
   "cell_type": "code",
   "execution_count": 11,
   "metadata": {},
   "outputs": [
    {
     "name": "stderr",
     "output_type": "stream",
     "text": [
      "C:\\Users\\icarus\\AppData\\Local\\Temp\\ipykernel_15408\\2167884411.py:1: DtypeWarning: Columns (86) have mixed types. Specify dtype option on import or set low_memory=False.\n",
      "  df1 = pd.read_csv(\"day1_bigAttack.csv\")\n"
     ]
    }
   ],
   "source": [
    "df1 = pd.read_csv(\"day1_bigAttack.csv\")"
   ]
  },
  {
   "cell_type": "code",
   "execution_count": 12,
   "metadata": {},
   "outputs": [
    {
     "name": "stdout",
     "output_type": "stream",
     "text": [
      "DrDoS_SNMP       366003\n",
      "DrDoS_DNS        366001\n",
      "DrDoS_NetBIOS    366001\n",
      "DrDoS_NTP        366001\n",
      "DrDoS_UDP        366001\n",
      "Syn              366001\n",
      "DrDoS_MSSQL      366000\n",
      "UDP-lag          366000\n",
      "DrDoS_LDAP       365998\n",
      "DrDoS_SSDP       365998\n",
      "TFTP             365998\n",
      "WebDDoS             439\n",
      "Name:  Label, dtype: int64\n"
     ]
    }
   ],
   "source": [
    "print(df1[\" Label\"].value_counts())"
   ]
  },
  {
   "cell_type": "markdown",
   "metadata": {},
   "source": [
    "Cleaning"
   ]
  },
  {
   "cell_type": "code",
   "execution_count": 13,
   "metadata": {},
   "outputs": [],
   "source": [
    "# Remove socket information and timestamp\n",
    "drop_cols = ['Flow ID', ' Source IP', ' Source Port', ' Destination IP',' Destination Port', ' Timestamp']\n",
    "\n",
    "df1 = df1.drop(drop_cols, axis=1)\n",
    "\n",
    "# remove infinity values\n",
    "df1 = df1.replace([np.inf, -np.inf], np.nan).dropna(axis=0)\n",
    "\n",
    "# replace invalid SimilarHTTP values with NaN\n",
    "for col in df1.columns:\n",
    "    if col != \" Label\":\n",
    "        df1[col] = pd.to_numeric(df1[col], errors='coerce')\n",
    "\n",
    "# drop remaining NaN values from both\n",
    "df1 = df1.dropna(axis=0)"
   ]
  },
  {
   "cell_type": "code",
   "execution_count": 14,
   "metadata": {},
   "outputs": [
    {
     "name": "stdout",
     "output_type": "stream",
     "text": [
      "DrDoS_SNMP       365218\n",
      "DrDoS_NTP        363719\n",
      "DrDoS_UDP        361324\n",
      "DrDoS_SSDP       360093\n",
      "DrDoS_LDAP       359373\n",
      "DrDoS_MSSQL      355888\n",
      "TFTP             355534\n",
      "DrDoS_NetBIOS    354327\n",
      "DrDoS_DNS        354276\n",
      "UDP-lag          329659\n",
      "Syn              319212\n",
      "WebDDoS             322\n",
      "Name:  Label, dtype: int64\n"
     ]
    }
   ],
   "source": [
    "print(df1[\" Label\"].value_counts())"
   ]
  },
  {
   "cell_type": "markdown",
   "metadata": {},
   "source": [
    "We will now balance the samples and create our binary and multiclass datasets"
   ]
  },
  {
   "cell_type": "code",
   "execution_count": 15,
   "metadata": {},
   "outputs": [
    {
     "name": "stdout",
     "output_type": "stream",
     "text": [
      "['DrDoS_DNS' 'DrDoS_LDAP' 'DrDoS_MSSQL' 'DrDoS_NetBIOS' 'DrDoS_NTP'\n",
      " 'DrDoS_SNMP' 'DrDoS_SSDP' 'DrDoS_UDP' 'Syn' 'TFTP' 'UDP-lag' 'WebDDoS']\n"
     ]
    }
   ],
   "source": [
    "# get list of labels so we can pull an equal number of samples from each.\n",
    "cols = df1[\" Label\"].unique()\n",
    "print(df1[\" Label\"].unique())"
   ]
  },
  {
   "cell_type": "code",
   "execution_count": 16,
   "metadata": {},
   "outputs": [
    {
     "name": "stdout",
     "output_type": "stream",
     "text": [
      "DrDoS_DNS        319000\n",
      "DrDoS_LDAP       319000\n",
      "DrDoS_MSSQL      319000\n",
      "DrDoS_NetBIOS    319000\n",
      "DrDoS_NTP        319000\n",
      "DrDoS_SNMP       319000\n",
      "DrDoS_SSDP       319000\n",
      "DrDoS_UDP        319000\n",
      "Syn              319000\n",
      "TFTP             319000\n",
      "UDP-lag          319000\n",
      "Name:  Label, dtype: int64\n"
     ]
    }
   ],
   "source": [
    "# Assemble equal number of samples. Will be restructured in multiclass and binary datasets.\n",
    "outMult = None\n",
    "\n",
    "for val in cols:\n",
    "\n",
    "    # too small, so we drop it\n",
    "    if val == 'WebDDoS':\n",
    "        continue\n",
    "\n",
    "    # get all attacks of this type and cull to appropriate number\n",
    "    else:\n",
    "        slice = df1[df1[\" Label\"] == val].copy()\n",
    "        slice = slice.sample(n=319000,random_state=42) # Ensure equal sample number\n",
    "\n",
    "    # add to output\n",
    "    if outMult is None:\n",
    "        outMult = slice\n",
    "    else:\n",
    "        outMult = pd.concat([outMult, slice])\n",
    "\n",
    "print(outMult[\" Label\"].value_counts())"
   ]
  },
  {
   "cell_type": "code",
   "execution_count": 17,
   "metadata": {},
   "outputs": [
    {
     "name": "stdout",
     "output_type": "stream",
     "text": [
      "DNS        319000\n",
      "LDAP       319000\n",
      "MSSQL      319000\n",
      "NetBIOS    319000\n",
      "NTP        319000\n",
      "SNMP       319000\n",
      "SSDP       319000\n",
      "UDP        319000\n",
      "Syn        319000\n",
      "TFTP       319000\n",
      "UDP-lag    319000\n",
      "Name:  Label, dtype: int64\n"
     ]
    }
   ],
   "source": [
    "# Drop the benign samples to get our multiclass dataset.\n",
    "multiclass = outMult[outMult[\" Label\"] != \"BENIGN\"]\n",
    "\n",
    "# Remove the annoying DrDOS prefix from labels.\n",
    "multiclass[\" Label\"] = multiclass[\" Label\"].apply(lambda x: x.replace(\"DrDoS_\", \"\"))\n",
    "\n",
    "print(multiclass[\" Label\"].value_counts())"
   ]
  },
  {
   "cell_type": "code",
   "execution_count": 18,
   "metadata": {},
   "outputs": [
    {
     "data": {
      "text/html": [
       "<div>\n",
       "<style scoped>\n",
       "    .dataframe tbody tr th:only-of-type {\n",
       "        vertical-align: middle;\n",
       "    }\n",
       "\n",
       "    .dataframe tbody tr th {\n",
       "        vertical-align: top;\n",
       "    }\n",
       "\n",
       "    .dataframe thead th {\n",
       "        text-align: right;\n",
       "    }\n",
       "</style>\n",
       "<table border=\"1\" class=\"dataframe\">\n",
       "  <thead>\n",
       "    <tr style=\"text-align: right;\">\n",
       "      <th></th>\n",
       "      <th>Protocol</th>\n",
       "      <th>Flow Duration</th>\n",
       "      <th>Total Fwd Packets</th>\n",
       "      <th>Total Backward Packets</th>\n",
       "      <th>Total Length of Fwd Packets</th>\n",
       "      <th>Total Length of Bwd Packets</th>\n",
       "      <th>Fwd Packet Length Max</th>\n",
       "      <th>Fwd Packet Length Min</th>\n",
       "      <th>Fwd Packet Length Mean</th>\n",
       "      <th>Fwd Packet Length Std</th>\n",
       "      <th>...</th>\n",
       "      <th>Active Std</th>\n",
       "      <th>Active Max</th>\n",
       "      <th>Active Min</th>\n",
       "      <th>Idle Mean</th>\n",
       "      <th>Idle Std</th>\n",
       "      <th>Idle Max</th>\n",
       "      <th>Idle Min</th>\n",
       "      <th>SimillarHTTP</th>\n",
       "      <th>Inbound</th>\n",
       "      <th>Label</th>\n",
       "    </tr>\n",
       "  </thead>\n",
       "  <tbody>\n",
       "    <tr>\n",
       "      <th>173758</th>\n",
       "      <td>17</td>\n",
       "      <td>1</td>\n",
       "      <td>2</td>\n",
       "      <td>0</td>\n",
       "      <td>2896.0</td>\n",
       "      <td>0.0</td>\n",
       "      <td>1448.0</td>\n",
       "      <td>1448.0</td>\n",
       "      <td>1448.0</td>\n",
       "      <td>0.0</td>\n",
       "      <td>...</td>\n",
       "      <td>0.0</td>\n",
       "      <td>0.0</td>\n",
       "      <td>0.0</td>\n",
       "      <td>0.0</td>\n",
       "      <td>0.0</td>\n",
       "      <td>0.0</td>\n",
       "      <td>0.0</td>\n",
       "      <td>0.0</td>\n",
       "      <td>1</td>\n",
       "      <td>DNS</td>\n",
       "    </tr>\n",
       "    <tr>\n",
       "      <th>229441</th>\n",
       "      <td>17</td>\n",
       "      <td>1</td>\n",
       "      <td>2</td>\n",
       "      <td>0</td>\n",
       "      <td>2944.0</td>\n",
       "      <td>0.0</td>\n",
       "      <td>1472.0</td>\n",
       "      <td>1472.0</td>\n",
       "      <td>1472.0</td>\n",
       "      <td>0.0</td>\n",
       "      <td>...</td>\n",
       "      <td>0.0</td>\n",
       "      <td>0.0</td>\n",
       "      <td>0.0</td>\n",
       "      <td>0.0</td>\n",
       "      <td>0.0</td>\n",
       "      <td>0.0</td>\n",
       "      <td>0.0</td>\n",
       "      <td>0.0</td>\n",
       "      <td>1</td>\n",
       "      <td>DNS</td>\n",
       "    </tr>\n",
       "    <tr>\n",
       "      <th>92964</th>\n",
       "      <td>17</td>\n",
       "      <td>1</td>\n",
       "      <td>2</td>\n",
       "      <td>0</td>\n",
       "      <td>2944.0</td>\n",
       "      <td>0.0</td>\n",
       "      <td>1472.0</td>\n",
       "      <td>1472.0</td>\n",
       "      <td>1472.0</td>\n",
       "      <td>0.0</td>\n",
       "      <td>...</td>\n",
       "      <td>0.0</td>\n",
       "      <td>0.0</td>\n",
       "      <td>0.0</td>\n",
       "      <td>0.0</td>\n",
       "      <td>0.0</td>\n",
       "      <td>0.0</td>\n",
       "      <td>0.0</td>\n",
       "      <td>0.0</td>\n",
       "      <td>1</td>\n",
       "      <td>DNS</td>\n",
       "    </tr>\n",
       "    <tr>\n",
       "      <th>26856</th>\n",
       "      <td>17</td>\n",
       "      <td>45</td>\n",
       "      <td>2</td>\n",
       "      <td>0</td>\n",
       "      <td>2930.0</td>\n",
       "      <td>0.0</td>\n",
       "      <td>1465.0</td>\n",
       "      <td>1465.0</td>\n",
       "      <td>1465.0</td>\n",
       "      <td>0.0</td>\n",
       "      <td>...</td>\n",
       "      <td>0.0</td>\n",
       "      <td>0.0</td>\n",
       "      <td>0.0</td>\n",
       "      <td>0.0</td>\n",
       "      <td>0.0</td>\n",
       "      <td>0.0</td>\n",
       "      <td>0.0</td>\n",
       "      <td>0.0</td>\n",
       "      <td>1</td>\n",
       "      <td>DNS</td>\n",
       "    </tr>\n",
       "    <tr>\n",
       "      <th>10704</th>\n",
       "      <td>17</td>\n",
       "      <td>229</td>\n",
       "      <td>2</td>\n",
       "      <td>0</td>\n",
       "      <td>2896.0</td>\n",
       "      <td>0.0</td>\n",
       "      <td>1448.0</td>\n",
       "      <td>1448.0</td>\n",
       "      <td>1448.0</td>\n",
       "      <td>0.0</td>\n",
       "      <td>...</td>\n",
       "      <td>0.0</td>\n",
       "      <td>0.0</td>\n",
       "      <td>0.0</td>\n",
       "      <td>0.0</td>\n",
       "      <td>0.0</td>\n",
       "      <td>0.0</td>\n",
       "      <td>0.0</td>\n",
       "      <td>0.0</td>\n",
       "      <td>1</td>\n",
       "      <td>DNS</td>\n",
       "    </tr>\n",
       "  </tbody>\n",
       "</table>\n",
       "<p>5 rows × 81 columns</p>\n",
       "</div>"
      ],
      "text/plain": [
       "         Protocol   Flow Duration   Total Fwd Packets  \\\n",
       "173758         17               1                   2   \n",
       "229441         17               1                   2   \n",
       "92964          17               1                   2   \n",
       "26856          17              45                   2   \n",
       "10704          17             229                   2   \n",
       "\n",
       "         Total Backward Packets  Total Length of Fwd Packets  \\\n",
       "173758                        0                       2896.0   \n",
       "229441                        0                       2944.0   \n",
       "92964                         0                       2944.0   \n",
       "26856                         0                       2930.0   \n",
       "10704                         0                       2896.0   \n",
       "\n",
       "         Total Length of Bwd Packets   Fwd Packet Length Max  \\\n",
       "173758                           0.0                  1448.0   \n",
       "229441                           0.0                  1472.0   \n",
       "92964                            0.0                  1472.0   \n",
       "26856                            0.0                  1465.0   \n",
       "10704                            0.0                  1448.0   \n",
       "\n",
       "         Fwd Packet Length Min   Fwd Packet Length Mean  \\\n",
       "173758                  1448.0                   1448.0   \n",
       "229441                  1472.0                   1472.0   \n",
       "92964                   1472.0                   1472.0   \n",
       "26856                   1465.0                   1465.0   \n",
       "10704                   1448.0                   1448.0   \n",
       "\n",
       "         Fwd Packet Length Std  ...   Active Std   Active Max   Active Min  \\\n",
       "173758                     0.0  ...          0.0          0.0          0.0   \n",
       "229441                     0.0  ...          0.0          0.0          0.0   \n",
       "92964                      0.0  ...          0.0          0.0          0.0   \n",
       "26856                      0.0  ...          0.0          0.0          0.0   \n",
       "10704                      0.0  ...          0.0          0.0          0.0   \n",
       "\n",
       "        Idle Mean   Idle Std   Idle Max   Idle Min  SimillarHTTP   Inbound  \\\n",
       "173758        0.0        0.0        0.0        0.0           0.0         1   \n",
       "229441        0.0        0.0        0.0        0.0           0.0         1   \n",
       "92964         0.0        0.0        0.0        0.0           0.0         1   \n",
       "26856         0.0        0.0        0.0        0.0           0.0         1   \n",
       "10704         0.0        0.0        0.0        0.0           0.0         1   \n",
       "\n",
       "         Label  \n",
       "173758     DNS  \n",
       "229441     DNS  \n",
       "92964      DNS  \n",
       "26856      DNS  \n",
       "10704      DNS  \n",
       "\n",
       "[5 rows x 81 columns]"
      ]
     },
     "execution_count": 18,
     "metadata": {},
     "output_type": "execute_result"
    }
   ],
   "source": [
    "multiclass = multiclass.drop([\"Unnamed: 0.1\", \"Unnamed: 0\"], axis= 1)\n",
    "multiclass.head()"
   ]
  },
  {
   "cell_type": "code",
   "execution_count": 19,
   "metadata": {},
   "outputs": [],
   "source": [
    "multiclass.to_csv(\"multiclass.csv\", index=False)"
   ]
  },
  {
   "cell_type": "code",
   "execution_count": 20,
   "metadata": {},
   "outputs": [
    {
     "name": "stdout",
     "output_type": "stream",
     "text": [
      "DNS        319000\n",
      "LDAP       319000\n",
      "MSSQL      319000\n",
      "NetBIOS    319000\n",
      "NTP        319000\n",
      "SNMP       319000\n",
      "SSDP       319000\n",
      "UDP        319000\n",
      "Syn        319000\n",
      "TFTP       319000\n",
      "UDP-lag    319000\n",
      "Name:  Label, dtype: int64\n"
     ]
    }
   ],
   "source": [
    "\n",
    "print(multiclass[\" Label\"].value_counts())"
   ]
  }
 ],
 "metadata": {
  "kernelspec": {
   "display_name": "Python 3.10.4 64-bit",
   "language": "python",
   "name": "python3"
  },
  "language_info": {
   "codemirror_mode": {
    "name": "ipython",
    "version": 3
   },
   "file_extension": ".py",
   "mimetype": "text/x-python",
   "name": "python",
   "nbconvert_exporter": "python",
   "pygments_lexer": "ipython3",
   "version": "3.10.4"
  },
  "orig_nbformat": 4,
  "vscode": {
   "interpreter": {
    "hash": "4593b52a31704b5155580280f0f05a500adb36bf97584c7e94e26dfe17ea16d9"
   }
  }
 },
 "nbformat": 4,
 "nbformat_minor": 2
}
